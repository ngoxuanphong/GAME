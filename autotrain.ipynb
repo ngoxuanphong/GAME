{
 "cells": [
  {
   "cell_type": "code",
   "execution_count": 46,
   "metadata": {},
   "outputs": [],
   "source": [
    "from CheckEnv import check_env\n",
    "from CheckPlayer import check_agent\n",
    "from setup import path, SHOT_PATH, time_run_game\n",
    "import pandas as pd\n",
    "import importlib.util\n",
    "import numpy as np\n",
    "import sys\n",
    "import json\n",
    "\n",
    "SHOT_PATH = 'A:/AutoTrain/GAME/'\n",
    "\n",
    "def setup_game(game_name):\n",
    "    spec = importlib.util.spec_from_file_location('env', f\"{SHOT_PATH}base/{game_name}/env.py\")\n",
    "    module = importlib.util.module_from_spec(spec)\n",
    "    sys.modules[spec.name] = module \n",
    "    spec.loader.exec_module(module)\n",
    "    return module\n",
    "\n",
    "def load_module_player(player):\n",
    "    return  importlib.util.spec_from_file_location('Agent_player', f\"{SHOT_PATH}Agent/{player}/Agent_player.py\").loader.load_module()"
   ]
  },
  {
   "cell_type": "code",
   "execution_count": 47,
   "metadata": {},
   "outputs": [],
   "source": [
    "df_run = pd.read_json(f'{SHOT_PATH}Log/State.json')\n",
    "df_agent = pd.read_json(f'{SHOT_PATH}Log/StateAgent.json')\n",
    "df_env = pd.read_json(f'{SHOT_PATH}Log/StateEnv.json')\n",
    "\n",
    "list_tong = list(df_run.index)\n",
    "dict_level = json.load(open(f'{SHOT_PATH}Log/level_game.json'))\n",
    "dict_agent = json.load(open(f'{SHOT_PATH}Log/agent_all.json'))\n",
    "PASS_LEVEL = 250"
   ]
  },
  {
   "cell_type": "code",
   "execution_count": 45,
   "metadata": {},
   "outputs": [],
   "source": [
    "def save_json(path_save_json, dict_save):\n",
    "    with open(path_save_json, 'w') as f:\n",
    "        json.dump(dict_save, f)\n",
    "save_json(f'{SHOT_PATH}Log/level_game.json', dict_level)\n",
    "# dict_level.to\n"
   ]
  },
  {
   "cell_type": "code",
   "execution_count": 50,
   "metadata": {},
   "outputs": [
    {
     "data": {
      "text/plain": [
       "{'ngoxuanphong_1672396681': {'Can_Split_Level': 'True',\n",
       "  'level_max': 2,\n",
       "  'id_remove': [10,\n",
       "   11,\n",
       "   3,\n",
       "   8,\n",
       "   4,\n",
       "   11,\n",
       "   5,\n",
       "   2,\n",
       "   7,\n",
       "   11,\n",
       "   12,\n",
       "   13,\n",
       "   14,\n",
       "   15,\n",
       "   16,\n",
       "   17,\n",
       "   18,\n",
       "   19,\n",
       "   20,\n",
       "   21],\n",
       "  '1': [[3, 8, 4],\n",
       "   [9147.0, 9370.0, 9452.0],\n",
       "   ['AgentBias4', 'AgentBias9', 'AgentBias5']],\n",
       "  '2': [[5, 2, 7],\n",
       "   [9478.0, 9520.0, 9714.0],\n",
       "   ['AgentBias6', 'AgentBias3', 'AgentBias8']]},\n",
       " 'ngoxuanphong_1672398548': {'Can_Split_Level': 'True',\n",
       "  'level_max': 1,\n",
       "  'id_remove': [10,\n",
       "   11,\n",
       "   8,\n",
       "   5,\n",
       "   2,\n",
       "   10,\n",
       "   11,\n",
       "   12,\n",
       "   13,\n",
       "   14,\n",
       "   15,\n",
       "   16,\n",
       "   17,\n",
       "   18,\n",
       "   19,\n",
       "   20,\n",
       "   21],\n",
       "  '1': [[8, 5, 2],\n",
       "   [7471.0, 9311.0, 9542.0],\n",
       "   ['AgentBias9', 'AgentBias6', 'AgentBias3']]}}"
      ]
     },
     "execution_count": 50,
     "metadata": {},
     "output_type": "execute_result"
    }
   ],
   "source": [
    "dict_level"
   ]
  },
  {
   "cell_type": "code",
   "execution_count": 72,
   "metadata": {},
   "outputs": [
    {
     "data": {
      "text/plain": [
       "[(6,\n",
       "  2,\n",
       "  'ngoxuanphong_1672567938',\n",
       "  datetime.datetime(2023, 1, 1, 10, 12, 32),\n",
       "  100,\n",
       "  0),\n",
       " (10,\n",
       "  2,\n",
       "  'ngoxuanphong_1672569908',\n",
       "  datetime.datetime(2023, 1, 1, 10, 45, 20),\n",
       "  100,\n",
       "  0),\n",
       " (13,\n",
       "  2,\n",
       "  'ngoxuanphong_1672570588',\n",
       "  datetime.datetime(2023, 1, 1, 10, 56, 40),\n",
       "  100,\n",
       "  0)]"
      ]
     },
     "execution_count": 72,
     "metadata": {},
     "output_type": "execute_result"
    }
   ],
   "source": [
    "from server.mysql_connector import get_db_cursor\n",
    "mycursor, mydb = get_db_cursor()\n",
    "mycursor.execute(f\"SELECT * FROM CodeBot WHERE NotificateID = '100'\")\n",
    "\n",
    "data_env_upload = mycursor.fetchall()\n",
    "data_env_upload"
   ]
  },
  {
   "cell_type": "code",
   "execution_count": 37,
   "metadata": {},
   "outputs": [],
   "source": [
    "df_run['ngoxuanphong_1672396681'][0] = 0"
   ]
  },
  {
   "cell_type": "code",
   "execution_count": 38,
   "metadata": {},
   "outputs": [],
   "source": [
    "df_run.to_json(f'{SHOT_PATH}Log/State.json')"
   ]
  },
  {
   "cell_type": "code",
   "execution_count": 189,
   "metadata": {},
   "outputs": [],
   "source": [
    "df_run['Splendor_v3'].iloc[0] = 5108.0\n",
    "df_run['Splendor_v3'].iloc[1] = 5530.0\n",
    "df_run['Splendor_v3'].iloc[3] = 5160.0\n",
    "\n",
    "df_run['Splendor_v3'].iloc[4] = 5536.0\n",
    "df_run['Splendor_v3'].iloc[5] = 5592.0\n",
    "df_run['Splendor_v3'].iloc[7] = 5535.0\n",
    "\n",
    "df_run.to_json(f'{SHOT_PATH}Log/State.json')"
   ]
  },
  {
   "cell_type": "code",
   "execution_count": 168,
   "metadata": {},
   "outputs": [
    {
     "data": {
      "text/html": [
       "<div>\n",
       "<style scoped>\n",
       "    .dataframe tbody tr th:only-of-type {\n",
       "        vertical-align: middle;\n",
       "    }\n",
       "\n",
       "    .dataframe tbody tr th {\n",
       "        vertical-align: top;\n",
       "    }\n",
       "\n",
       "    .dataframe thead th {\n",
       "        text-align: right;\n",
       "    }\n",
       "</style>\n",
       "<table border=\"1\" class=\"dataframe\">\n",
       "  <thead>\n",
       "    <tr style=\"text-align: right;\">\n",
       "      <th></th>\n",
       "      <th>Splendor_v3</th>\n",
       "      <th>MachiKoro</th>\n",
       "      <th>Splendor_v2</th>\n",
       "    </tr>\n",
       "  </thead>\n",
       "  <tbody>\n",
       "    <tr>\n",
       "      <th>0</th>\n",
       "      <td>DONE</td>\n",
       "      <td>7533.0</td>\n",
       "      <td>9328.0</td>\n",
       "    </tr>\n",
       "    <tr>\n",
       "      <th>1</th>\n",
       "      <td>DONE</td>\n",
       "      <td>8233.0</td>\n",
       "      <td>9814.0</td>\n",
       "    </tr>\n",
       "    <tr>\n",
       "      <th>2</th>\n",
       "      <td>5690.0</td>\n",
       "      <td>7990.0</td>\n",
       "      <td>9711.0</td>\n",
       "    </tr>\n",
       "    <tr>\n",
       "      <th>3</th>\n",
       "      <td>DONE</td>\n",
       "      <td>8072.0</td>\n",
       "      <td>9579.0</td>\n",
       "    </tr>\n",
       "    <tr>\n",
       "      <th>4</th>\n",
       "      <td>5536.0</td>\n",
       "      <td>7646.0</td>\n",
       "      <td>9616.0</td>\n",
       "    </tr>\n",
       "    <tr>\n",
       "      <th>5</th>\n",
       "      <td>5592.0</td>\n",
       "      <td>8868.0</td>\n",
       "      <td>9310.0</td>\n",
       "    </tr>\n",
       "    <tr>\n",
       "      <th>6</th>\n",
       "      <td>5705.0</td>\n",
       "      <td>7688.0</td>\n",
       "      <td>9422.0</td>\n",
       "    </tr>\n",
       "    <tr>\n",
       "      <th>7</th>\n",
       "      <td>5535.0</td>\n",
       "      <td>8353.0</td>\n",
       "      <td>9595.0</td>\n",
       "    </tr>\n",
       "    <tr>\n",
       "      <th>8</th>\n",
       "      <td>5649.0</td>\n",
       "      <td>8128.0</td>\n",
       "      <td>9811.0</td>\n",
       "    </tr>\n",
       "    <tr>\n",
       "      <th>9</th>\n",
       "      <td>5639.0</td>\n",
       "      <td>8532.0</td>\n",
       "      <td>9613.0</td>\n",
       "    </tr>\n",
       "    <tr>\n",
       "      <th>10</th>\n",
       "      <td>None</td>\n",
       "      <td>NaN</td>\n",
       "      <td>NaN</td>\n",
       "    </tr>\n",
       "    <tr>\n",
       "      <th>11</th>\n",
       "      <td>None</td>\n",
       "      <td>NaN</td>\n",
       "      <td>NaN</td>\n",
       "    </tr>\n",
       "  </tbody>\n",
       "</table>\n",
       "</div>"
      ],
      "text/plain": [
       "   Splendor_v3  MachiKoro  Splendor_v2\n",
       "0         DONE     7533.0       9328.0\n",
       "1         DONE     8233.0       9814.0\n",
       "2       5690.0     7990.0       9711.0\n",
       "3         DONE     8072.0       9579.0\n",
       "4       5536.0     7646.0       9616.0\n",
       "5       5592.0     8868.0       9310.0\n",
       "6       5705.0     7688.0       9422.0\n",
       "7       5535.0     8353.0       9595.0\n",
       "8       5649.0     8128.0       9811.0\n",
       "9       5639.0     8532.0       9613.0\n",
       "10        None        NaN          NaN\n",
       "11        None        NaN          NaN"
      ]
     },
     "execution_count": 168,
     "metadata": {},
     "output_type": "execute_result"
    }
   ],
   "source": [
    "df_run.iloc[:, 7:]"
   ]
  },
  {
   "cell_type": "code",
   "execution_count": 126,
   "metadata": {},
   "outputs": [],
   "source": [
    "df_env['CHECK'] = np.nan\n",
    "df_env['NOTE'] = np.nan\n",
    "df_env.to_json(f'{SHOT_PATH}Log/StateEnv.json')"
   ]
  },
  {
   "cell_type": "code",
   "execution_count": 123,
   "metadata": {},
   "outputs": [],
   "source": [
    "df_env['CHECK'] = np.nan\n",
    "df_env['NOTE'] = np.nan\n",
    "df_env.to_json(f'{SHOT_PATH}Log/StateEnv.json')"
   ]
  },
  {
   "attachments": {},
   "cell_type": "markdown",
   "metadata": {},
   "source": [
    "# Suawr laji maays file linh tinh vo van"
   ]
  },
  {
   "cell_type": "code",
   "execution_count": 82,
   "metadata": {},
   "outputs": [],
   "source": [
    "# df_run = df_run.drop(labels=['TLMN', 'TLMN_v2'], axis=1)\n",
    "# df_run = df_run.drop(11)\n",
    "# df_run['Splendor_v3'] = np.nan\n",
    "# df_run['Splendor_v2'] = np.nan\n",
    "# df_run['MachiKoro'] = np.nan\n",
    "# df_run.to_json(f'{SHOT_PATH}Log/State.json')"
   ]
  }
 ],
 "metadata": {
  "kernelspec": {
   "display_name": "Python 3",
   "language": "python",
   "name": "python3"
  },
  "language_info": {
   "codemirror_mode": {
    "name": "ipython",
    "version": 3
   },
   "file_extension": ".py",
   "mimetype": "text/x-python",
   "name": "python",
   "nbconvert_exporter": "python",
   "pygments_lexer": "ipython3",
   "version": "3.7.7"
  },
  "orig_nbformat": 4,
  "vscode": {
   "interpreter": {
    "hash": "252189e587d1e2aeba4a06e91fa71896c7a7f6e22e918b9407c7cde4ef2d5985"
   }
  }
 },
 "nbformat": 4,
 "nbformat_minor": 2
}
