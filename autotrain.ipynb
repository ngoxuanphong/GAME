{
 "cells": [
  {
   "cell_type": "code",
   "execution_count": 1,
   "metadata": {},
   "outputs": [],
   "source": [
    "from CheckEnv import check_env\n",
    "from CheckPlayer import check_agent\n",
    "from CheckEnvAgent import CreateFolder, load_module_player, add_game_to_syspath, setup_game, save_json\n",
    "from AutoTrain import train_agent_by_level\n",
    "\n",
    "from setup import SHOT_PATH, time_run_game\n",
    "import pandas as pd\n",
    "import importlib.util\n",
    "import numpy as np\n",
    "import sys, time, shutil\n",
    "import json, os\n",
    "\n",
    "SHOT_PATH = 'A:/AutoTrain/GAME/'\n",
    "\n",
    "def setup_game(game_name):\n",
    "    spec = importlib.util.spec_from_file_location('env', f\"{SHOT_PATH}base/{game_name}/env.py\")\n",
    "    module = importlib.util.module_from_spec(spec)\n",
    "    sys.modules[spec.name] = module \n",
    "    spec.loader.exec_module(module)\n",
    "    return module\n",
    "\n",
    "def load_module_player(player):\n",
    "    return  importlib.util.spec_from_file_location('Agent_player', f\"{SHOT_PATH}Agent/{player}/Agent_player.py\").loader.load_module()"
   ]
  },
  {
   "cell_type": "code",
   "execution_count": null,
   "metadata": {},
   "outputs": [],
   "source": [
    "df_run = pd.read_json(f'{SHOT_PATH}Log/State.json')\n",
    "df_agent = pd.read_json(f'{SHOT_PATH}Log/StateAgent.json')\n",
    "df_env = pd.read_json(f'{SHOT_PATH}Log/StateEnv.json')\n",
    "\n",
    "list_tong = list(df_run.index)\n",
    "dict_level = json.load(open(f'{SHOT_PATH}Log/level_game.json'))\n",
    "dict_agent = json.load(open(f'{SHOT_PATH}Log/agent_all.json'))\n",
    "PASS_LEVEL = 250\n",
    "df_run"
   ]
  },
  {
   "cell_type": "code",
   "execution_count": null,
   "metadata": {},
   "outputs": [],
   "source": [
    "df_run = pd.read_excel(f'{SHOT_PATH}Log/State.xlsx')\n",
    "df_run"
   ]
  },
  {
   "cell_type": "code",
   "execution_count": 4,
   "metadata": {},
   "outputs": [],
   "source": [
    "df_run.to_excel('Log\\State.xlsx', index=False)"
   ]
  },
  {
   "cell_type": "code",
   "execution_count": 5,
   "metadata": {},
   "outputs": [],
   "source": [
    "df_run.to_json(f'{SHOT_PATH}Log/State.json')"
   ]
  },
  {
   "cell_type": "code",
   "execution_count": 24,
   "metadata": {},
   "outputs": [],
   "source": [
    "df_run['TLMN'] = np.nan\n",
    "df_run['TLMN_v2'] = np.nan\n",
    "df_run['Splendor_v2'] = np.nan\n",
    "df_run['Splendor_v3'] = np.nan\n",
    "df_run['MachiKoro'] = np.nan\n",
    "df_run['Sheriff'] = np.nan\n",
    "df_run['SushiGo'] = np.nan\n",
    "\n",
    "df_run.to_json(f'{SHOT_PATH}Log/State.json')"
   ]
  }
 ],
 "metadata": {
  "kernelspec": {
   "display_name": "Python 3",
   "language": "python",
   "name": "python3"
  },
  "language_info": {
   "codemirror_mode": {
    "name": "ipython",
    "version": 3
   },
   "file_extension": ".py",
   "mimetype": "text/x-python",
   "name": "python",
   "nbconvert_exporter": "python",
   "pygments_lexer": "ipython3",
   "version": "3.10.0"
  },
  "orig_nbformat": 4,
  "vscode": {
   "interpreter": {
    "hash": "31671a60cee805c34c73116577b485118ff3a75c458d3004d49632c19702ac60"
   }
  }
 },
 "nbformat": 4,
 "nbformat_minor": 2
}
