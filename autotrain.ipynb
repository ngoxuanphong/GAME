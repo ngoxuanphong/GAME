{
 "cells": [
  {
   "cell_type": "code",
   "execution_count": 1,
   "metadata": {},
   "outputs": [],
   "source": [
    "from CheckEnv import check_env\n",
    "from CheckPlayer import check_agent\n",
    "from CheckEnvAgent import CreateFolder, load_module_player, add_game_to_syspath, setup_game, save_json\n",
    "from setup import SHOT_PATH, time_run_game\n",
    "import pandas as pd\n",
    "import importlib.util\n",
    "import numpy as np\n",
    "import sys, time, shutil\n",
    "import json\n",
    "\n",
    "SHOT_PATH = 'A:/AutoTrain/GAME/'\n",
    "\n",
    "def setup_game(game_name):\n",
    "    spec = importlib.util.spec_from_file_location('env', f\"{SHOT_PATH}base/{game_name}/env.py\")\n",
    "    module = importlib.util.module_from_spec(spec)\n",
    "    sys.modules[spec.name] = module \n",
    "    spec.loader.exec_module(module)\n",
    "    return module\n",
    "\n",
    "def load_module_player(player):\n",
    "    return  importlib.util.spec_from_file_location('Agent_player', f\"{SHOT_PATH}Agent/{player}/Agent_player.py\").loader.load_module()"
   ]
  },
  {
   "cell_type": "code",
   "execution_count": 6,
   "metadata": {},
   "outputs": [],
   "source": [
    "dict_level_all = {'Level max': 1}\n",
    "level = 1\n",
    "if str(level) not in dict_level_all:\n",
    "    dict_level_all[level] = {'Can Train': False,\n",
    "                            'Agents Name': []}\n",
    "    save_json(f'{SHOT_PATH}Log/level_game_all.json', dict_level_all)"
   ]
  },
  {
   "cell_type": "code",
   "execution_count": null,
   "metadata": {},
   "outputs": [],
   "source": [
    "def get_level(env_name):\n",
    "    level = dict_level_all['Level max']\n",
    "    #Khi có agent mới mà đủ điều kiện thì thêm luôn vào đây\n",
    "    #Đang chờ\n",
    "    if str(level) in dict_level_all:\n",
    "        if len(dict_level_all[str(level)]['Agent name']) >= 15: #Thêm level mới khi có level cũ đã đủ số lượng agent\n",
    "            dict_level_all[level]['Can Train'] = True\n",
    "            dict_level_all['Level max'] += 1\n",
    "            dict_level_all[level+1] = {'Can Train': False,\n",
    "                                        'Agents Name': []} \n",
    "    "
   ]
  },
  {
   "cell_type": "code",
   "execution_count": null,
   "metadata": {},
   "outputs": [],
   "source": [
    "def get_new_agent_for_game(env_name): #Khi không đủ agent để làm lv1 thì lấy thêm một agent train lại và làm level của game đó\n",
    "    add_game_to_syspath(env_name)\n",
    "    if \n",
    "    "
   ]
  },
  {
   "cell_type": "code",
   "execution_count": 2,
   "metadata": {},
   "outputs": [
    {
     "data": {
      "text/html": [
       "<div>\n",
       "<style scoped>\n",
       "    .dataframe tbody tr th:only-of-type {\n",
       "        vertical-align: middle;\n",
       "    }\n",
       "\n",
       "    .dataframe tbody tr th {\n",
       "        vertical-align: top;\n",
       "    }\n",
       "\n",
       "    .dataframe thead th {\n",
       "        text-align: right;\n",
       "    }\n",
       "</style>\n",
       "<table border=\"1\" class=\"dataframe\">\n",
       "  <thead>\n",
       "    <tr style=\"text-align: right;\">\n",
       "      <th></th>\n",
       "      <th>File</th>\n",
       "      <th>Size</th>\n",
       "      <th>Time1</th>\n",
       "      <th>Time2</th>\n",
       "      <th>STATE</th>\n",
       "      <th>ID</th>\n",
       "      <th>NOTE</th>\n",
       "      <th>Splendor_v2</th>\n",
       "      <th>Splendor_v3</th>\n",
       "      <th>TLMN_v2</th>\n",
       "      <th>TLMN</th>\n",
       "      <th>MachiKoro</th>\n",
       "      <th>Sheriff</th>\n",
       "      <th>SushiGo</th>\n",
       "      <th>Catan_v2</th>\n",
       "      <th>StoneAge</th>\n",
       "      <th>Century</th>\n",
       "    </tr>\n",
       "  </thead>\n",
       "  <tbody>\n",
       "    <tr>\n",
       "      <th>0</th>\n",
       "      <td>Trang</td>\n",
       "      <td>NaN</td>\n",
       "      <td>NaN</td>\n",
       "      <td>NaN</td>\n",
       "      <td>NaN</td>\n",
       "      <td>Trang</td>\n",
       "      <td>NaN</td>\n",
       "      <td>5376</td>\n",
       "      <td>4673</td>\n",
       "      <td>4376</td>\n",
       "      <td>3435</td>\n",
       "      <td>7106</td>\n",
       "      <td>8120</td>\n",
       "      <td>6031</td>\n",
       "      <td>x</td>\n",
       "      <td>x</td>\n",
       "      <td>x</td>\n",
       "    </tr>\n",
       "    <tr>\n",
       "      <th>1</th>\n",
       "      <td>An</td>\n",
       "      <td>NaN</td>\n",
       "      <td>NaN</td>\n",
       "      <td>NaN</td>\n",
       "      <td>NaN</td>\n",
       "      <td>An</td>\n",
       "      <td>NaN</td>\n",
       "      <td>9750</td>\n",
       "      <td>5643</td>\n",
       "      <td>5183</td>\n",
       "      <td>4286</td>\n",
       "      <td>9162</td>\n",
       "      <td>9310</td>\n",
       "      <td>9249</td>\n",
       "      <td>x</td>\n",
       "      <td>x</td>\n",
       "      <td>x</td>\n",
       "    </tr>\n",
       "    <tr>\n",
       "      <th>2</th>\n",
       "      <td>BiasAlgorihm</td>\n",
       "      <td>NaN</td>\n",
       "      <td>NaN</td>\n",
       "      <td>NaN</td>\n",
       "      <td>NaN</td>\n",
       "      <td>BiasAlgorihm</td>\n",
       "      <td>NaN</td>\n",
       "      <td>9827</td>\n",
       "      <td>5635</td>\n",
       "      <td>6420</td>\n",
       "      <td>4368</td>\n",
       "      <td>8487</td>\n",
       "      <td>9550</td>\n",
       "      <td>8856</td>\n",
       "      <td>x</td>\n",
       "      <td>x</td>\n",
       "      <td>x</td>\n",
       "    </tr>\n",
       "    <tr>\n",
       "      <th>3</th>\n",
       "      <td>MultiDimensionAlgorithm</td>\n",
       "      <td>NaN</td>\n",
       "      <td>NaN</td>\n",
       "      <td>NaN</td>\n",
       "      <td>NaN</td>\n",
       "      <td>MultiDimensionAlgorithm</td>\n",
       "      <td>NaN</td>\n",
       "      <td>9830</td>\n",
       "      <td>5559</td>\n",
       "      <td>6420</td>\n",
       "      <td>5478</td>\n",
       "      <td>8759</td>\n",
       "      <td>9002</td>\n",
       "      <td>8831</td>\n",
       "      <td>8071</td>\n",
       "      <td>None</td>\n",
       "      <td>None</td>\n",
       "    </tr>\n",
       "  </tbody>\n",
       "</table>\n",
       "</div>"
      ],
      "text/plain": [
       "                      File  Size  Time1  Time2  STATE  \\\n",
       "0                    Trang   NaN    NaN    NaN    NaN   \n",
       "1                       An   NaN    NaN    NaN    NaN   \n",
       "2             BiasAlgorihm   NaN    NaN    NaN    NaN   \n",
       "3  MultiDimensionAlgorithm   NaN    NaN    NaN    NaN   \n",
       "\n",
       "                        ID  NOTE  Splendor_v2  Splendor_v3  TLMN_v2  TLMN  \\\n",
       "0                    Trang   NaN         5376         4673     4376  3435   \n",
       "1                       An   NaN         9750         5643     5183  4286   \n",
       "2             BiasAlgorihm   NaN         9827         5635     6420  4368   \n",
       "3  MultiDimensionAlgorithm   NaN         9830         5559     6420  5478   \n",
       "\n",
       "   MachiKoro  Sheriff  SushiGo Catan_v2 StoneAge Century  \n",
       "0       7106     8120     6031        x        x       x  \n",
       "1       9162     9310     9249        x        x       x  \n",
       "2       8487     9550     8856        x        x       x  \n",
       "3       8759     9002     8831     8071     None    None  "
      ]
     },
     "execution_count": 2,
     "metadata": {},
     "output_type": "execute_result"
    }
   ],
   "source": [
    "df_run = pd.read_json(f'{SHOT_PATH}Log/State.json')\n",
    "df_agent = pd.read_json(f'{SHOT_PATH}Log/StateAgent.json')\n",
    "df_env = pd.read_json(f'{SHOT_PATH}Log/StateEnv.json')\n",
    "\n",
    "list_tong = list(df_run.index)\n",
    "dict_level = json.load(open(f'{SHOT_PATH}Log/level_game.json'))\n",
    "dict_agent = json.load(open(f'{SHOT_PATH}Log/agent_all.json'))\n",
    "PASS_LEVEL = 250\n",
    "df_run"
   ]
  },
  {
   "cell_type": "code",
   "execution_count": null,
   "metadata": {},
   "outputs": [],
   "source": [
    "df_run = pd.read_excel(f'{SHOT_PATH}Log/State.xlsx')\n",
    "df_run"
   ]
  },
  {
   "cell_type": "code",
   "execution_count": 12,
   "metadata": {},
   "outputs": [],
   "source": [
    "df_run.to_excel('Log\\State.xlsx', index=False)"
   ]
  },
  {
   "cell_type": "code",
   "execution_count": 8,
   "metadata": {},
   "outputs": [],
   "source": [
    "df_run.to_json(f'{SHOT_PATH}Log/State.json')"
   ]
  },
  {
   "cell_type": "code",
   "execution_count": 24,
   "metadata": {},
   "outputs": [],
   "source": [
    "df_run['TLMN'] = np.nan\n",
    "df_run['TLMN_v2'] = np.nan\n",
    "df_run['Splendor_v2'] = np.nan\n",
    "df_run['Splendor_v3'] = np.nan\n",
    "df_run['MachiKoro'] = np.nan\n",
    "df_run['Sheriff'] = np.nan\n",
    "df_run['SushiGo'] = np.nan\n",
    "\n",
    "df_run.to_json(f'{SHOT_PATH}Log/State.json')"
   ]
  }
 ],
 "metadata": {
  "kernelspec": {
   "display_name": "Python 3",
   "language": "python",
   "name": "python3"
  },
  "language_info": {
   "codemirror_mode": {
    "name": "ipython",
    "version": 3
   },
   "file_extension": ".py",
   "mimetype": "text/x-python",
   "name": "python",
   "nbconvert_exporter": "python",
   "pygments_lexer": "ipython3",
   "version": "3.7.7"
  },
  "orig_nbformat": 4,
  "vscode": {
   "interpreter": {
    "hash": "252189e587d1e2aeba4a06e91fa71896c7a7f6e22e918b9407c7cde4ef2d5985"
   }
  }
 },
 "nbformat": 4,
 "nbformat_minor": 2
}
