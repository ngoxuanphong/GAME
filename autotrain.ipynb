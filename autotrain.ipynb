{
 "cells": [
  {
   "cell_type": "code",
   "execution_count": 52,
   "metadata": {},
   "outputs": [],
   "source": [
    "from CheckEnv import check_env\n",
    "from CheckPlayer import check_agent\n",
    "from setup import SHOT_PATH, time_run_game\n",
    "import pandas as pd\n",
    "import importlib.util\n",
    "import numpy as np\n",
    "import sys, time, shutil\n",
    "import json\n",
    "\n",
    "SHOT_PATH = 'A:/AutoTrain/GAME/'\n",
    "\n",
    "def setup_game(game_name):\n",
    "    spec = importlib.util.spec_from_file_location('env', f\"{SHOT_PATH}base/{game_name}/env.py\")\n",
    "    module = importlib.util.module_from_spec(spec)\n",
    "    sys.modules[spec.name] = module \n",
    "    spec.loader.exec_module(module)\n",
    "    return module\n",
    "\n",
    "def load_module_player(player):\n",
    "    return  importlib.util.spec_from_file_location('Agent_player', f\"{SHOT_PATH}Agent/{player}/Agent_player.py\").loader.load_module()"
   ]
  },
  {
   "cell_type": "code",
   "execution_count": null,
   "metadata": {},
   "outputs": [],
   "source": [
    "df_run = pd.read_json(f'{SHOT_PATH}Log/State.json')\n",
    "df_agent = pd.read_json(f'{SHOT_PATH}Log/StateAgent.json')\n",
    "df_env = pd.read_json(f'{SHOT_PATH}Log/StateEnv.json')\n",
    "\n",
    "list_tong = list(df_run.index)\n",
    "dict_level = json.load(open(f'{SHOT_PATH}Log/level_game.json'))\n",
    "dict_agent = json.load(open(f'{SHOT_PATH}Log/agent_all.json'))\n",
    "PASS_LEVEL = 250\n",
    "df_run"
   ]
  },
  {
   "cell_type": "code",
   "execution_count": 55,
   "metadata": {},
   "outputs": [],
   "source": [
    "TEXT_ADD = \"\"\"\n",
    "import numpy as np\n",
    "from numba import njit\n",
    "import sys, os\n",
    "from setup import SHOT_PATH\n",
    "import importlib.util\n",
    "game_name = sys.argv[1]\n",
    "\n",
    "def setup_game(game_name):\n",
    "    spec = importlib.util.spec_from_file_location('env', f\"{SHOT_PATH}base/{game_name}/env.py\")\n",
    "    module = importlib.util.module_from_spec(spec)\n",
    "    sys.modules[spec.name] = module \n",
    "    spec.loader.exec_module(module)\n",
    "    return module\n",
    "\n",
    "env = setup_game(game_name)\n",
    "\n",
    "getActionSize = env.getActionSize\n",
    "getStateSize = env.getStateSize\n",
    "getAgentSize = env.getAgentSize\n",
    "\n",
    "getValidActions = env.getValidActions\n",
    "getReward = env.getReward\n",
    "\n",
    "normal_main = env.normal_main\n",
    "numba_main_2 = env.numba_main_2\n",
    "\"\"\"\n",
    "\n",
    "def add_text_to_file(agent_name):\n",
    "    shutil.move(f'{SHOT_PATH}Agent/{agent_name}/Agent_player.py', f'{SHOT_PATH}Agent/{agent_name}/Agent_player.txt')\n",
    "    time.sleep(0.5)\n",
    "    with open(f'{SHOT_PATH}Agent/{agent_name}/Agent_player.txt', 'r') as original: data = original.read()\n",
    "    time.sleep(0.5)\n",
    "    with open(f'{SHOT_PATH}Agent/{agent_name}/Agent_player.txt', 'w') as modified: modified.write(f\"{TEXT_ADD}\\n\" + data)\n",
    "    time.sleep(0.5)\n",
    "    shutil.move(f'{SHOT_PATH}Agent/{agent_name}/Agent_player.txt', f'{SHOT_PATH}Agent/{agent_name}/Agent_player.py')\n",
    "    time.sleep(0.5)\n",
    "\n",
    "add_text_to_file('agent_test')"
   ]
  },
  {
   "cell_type": "code",
   "execution_count": null,
   "metadata": {},
   "outputs": [],
   "source": [
    "dict_level"
   ]
  },
  {
   "cell_type": "code",
   "execution_count": 4,
   "metadata": {},
   "outputs": [],
   "source": [
    "df_run.drop(columns=['system0_1672720455']).to_json(f'{SHOT_PATH}Log/State.json')"
   ]
  },
  {
   "cell_type": "code",
   "execution_count": 14,
   "metadata": {},
   "outputs": [],
   "source": [
    "def save_json(path_save_json, dict_save):\n",
    "    with open(path_save_json, 'w') as f:\n",
    "        json.dump(dict_save, f, indent= 4)\n",
    "save_json(f'{SHOT_PATH}Log/level_game.json', dict_level)"
   ]
  },
  {
   "cell_type": "code",
   "execution_count": 50,
   "metadata": {},
   "outputs": [
    {
     "data": {
      "text/plain": [
       "('system0_1672720433', 4)"
      ]
     },
     "execution_count": 50,
     "metadata": {},
     "output_type": "execute_result"
    }
   ],
   "source": [
    "def choose_game_level_train(agent_name):\n",
    "    dict_level = json.load(open(f'{SHOT_PATH}Log/level_game.json'))\n",
    "    dict_agent = json.load(open(f'{SHOT_PATH}Log/agent_all.json'))\n",
    "\n",
    "    if len(dict_level) > 0: #Nếu số game lớn hơn 0\n",
    "        env_name = list(dict_level.keys())[0]\n",
    "\n",
    "        if dict_agent[agent_name]['First train'] == False: #Khi chưa train và chọn level xong cho game đầu tiên\n",
    "            state_train_env = dict_agent[agent_name][env_name]['State_level']\n",
    "            if state_train_env[0] == 0: #Là chưa được train\n",
    "                level_train = state_train_env[1] #Báo hiệu level sẽ được train tiếp theo\n",
    "                if level_train == 0:\n",
    "                    level_train = dict_level[env_name]['level_max'] - 2\n",
    "                dict_agent[agent_name][env_name]['State_level'][0] = 1 #Gán để báo hiệu đang được train\n",
    "                dict_agent[agent_name][env_name]['State_level'][1] = level_train\n",
    "                save_json(f'{SHOT_PATH}Log/agent_all.json', dict_agent)\n",
    "                return env_name, level_train\n",
    "\n",
    "    for env_name in dict_agent[agent_name]:\n",
    "        if env_name not in ['Elo', 'First train', 'Level Train', 'Agent Save']:\n",
    "            state_train_env = dict_agent[agent_name][env_name]['State_level']\n",
    "            if state_train_env[0] == 0:\n",
    "                if dict_agent[agent_name]['Agent Save'] == True: #Nếu là agent đang mạnh thì train tiếp level \n",
    "                    level_train = state_train_env[1]\n",
    "                    dict_agent[agent_name][env_name]['State_level'][0] = 1\n",
    "                else:\n",
    "                    level_train = state_train_env[1]//2\n",
    "                    dict_agent[agent_name][env_name]['State_level'][0] = -1 #Gán cái này agent này yếu nên chỉ train mỗi game 1 level thôi\n",
    "                if level_train == 0:\n",
    "                    level_train = dict_agent[agent_name]['Level Train']\n",
    "                dict_agent[agent_name][env_name]['State_level'][1] = level_train\n",
    "                save_json(f'{SHOT_PATH}Log/agent_all.json', dict_agent)\n",
    "                return env_name, level_train\n",
    "    return False, False\n",
    "\n",
    "\n",
    "choose_game_level_train('system0_1672806467')"
   ]
  },
  {
   "cell_type": "code",
   "execution_count": 70,
   "metadata": {},
   "outputs": [
    {
     "ename": "FileNotFoundError",
     "evalue": "[Errno 2] No such file or directory: 'A:/AutoTrain/GAME/Agent/system0_1672806467/Data/system0_1672717758_6/Train.npy'",
     "output_type": "error",
     "traceback": [
      "\u001b[1;31m---------------------------------------------------------------------------\u001b[0m",
      "\u001b[1;31mFileNotFoundError\u001b[0m                         Traceback (most recent call last)",
      "\u001b[1;32m~\\AppData\\Local\\Temp\\ipykernel_13092\\1696737830.py\u001b[0m in \u001b[0;36m<module>\u001b[1;34m\u001b[0m\n\u001b[0;32m     54\u001b[0m     \u001b[1;32mreturn\u001b[0m \u001b[0mdict_agent\u001b[0m\u001b[1;33m\u001b[0m\u001b[1;33m\u001b[0m\u001b[0m\n\u001b[0;32m     55\u001b[0m \u001b[1;33m\u001b[0m\u001b[0m\n\u001b[1;32m---> 56\u001b[1;33m \u001b[0mafter_train\u001b[0m\u001b[1;33m(\u001b[0m\u001b[1;36m6\u001b[0m\u001b[1;33m,\u001b[0m \u001b[1;34m'system0_1672717758'\u001b[0m\u001b[1;33m,\u001b[0m \u001b[1;34m'system0_1672806467'\u001b[0m\u001b[1;33m,\u001b[0m \u001b[1;36m1\u001b[0m\u001b[1;33m,\u001b[0m \u001b[1;36m0\u001b[0m\u001b[1;33m)\u001b[0m\u001b[1;33m\u001b[0m\u001b[1;33m\u001b[0m\u001b[0m\n\u001b[0m",
      "\u001b[1;32m~\\AppData\\Local\\Temp\\ipykernel_13092\\1696737830.py\u001b[0m in \u001b[0;36mafter_train\u001b[1;34m(current_lv, env_name, agent_name, win, condition_pass_level)\u001b[0m\n\u001b[0;32m     32\u001b[0m \u001b[1;33m\u001b[0m\u001b[0m\n\u001b[0;32m     33\u001b[0m                 \u001b[0m__env__\u001b[0m \u001b[1;33m=\u001b[0m \u001b[0msetup_game\u001b[0m\u001b[1;33m(\u001b[0m\u001b[0menv_name\u001b[0m\u001b[1;33m)\u001b[0m\u001b[1;33m\u001b[0m\u001b[1;33m\u001b[0m\u001b[0m\n\u001b[1;32m---> 34\u001b[1;33m                 \u001b[0mdata_agent_env\u001b[0m \u001b[1;33m=\u001b[0m \u001b[0mlist\u001b[0m\u001b[1;33m(\u001b[0m\u001b[0mnp\u001b[0m\u001b[1;33m.\u001b[0m\u001b[0mload\u001b[0m\u001b[1;33m(\u001b[0m\u001b[1;34mf'{SHOT_PATH}Agent/{agent_name}/Data/{env_name}_{current_lv}/Train.npy'\u001b[0m\u001b[1;33m,\u001b[0m\u001b[0mallow_pickle\u001b[0m\u001b[1;33m=\u001b[0m\u001b[1;32mTrue\u001b[0m\u001b[1;33m)\u001b[0m\u001b[1;33m)\u001b[0m\u001b[1;33m\u001b[0m\u001b[1;33m\u001b[0m\u001b[0m\n\u001b[0m\u001b[0;32m     35\u001b[0m                 \u001b[0madd_game_to_syspath\u001b[0m\u001b[1;33m(\u001b[0m\u001b[0menv_name\u001b[0m\u001b[1;33m)\u001b[0m\u001b[1;33m\u001b[0m\u001b[1;33m\u001b[0m\u001b[0m\n\u001b[0;32m     36\u001b[0m                 \u001b[0mp0\u001b[0m \u001b[1;33m=\u001b[0m \u001b[0mload_module_player\u001b[0m\u001b[1;33m(\u001b[0m\u001b[0magent_name\u001b[0m\u001b[1;33m)\u001b[0m\u001b[1;33m.\u001b[0m\u001b[0mAgent\u001b[0m\u001b[1;33m\u001b[0m\u001b[1;33m\u001b[0m\u001b[0m\n",
      "\u001b[1;32mc:\\Users\\Admin\\AppData\\Local\\Programs\\Python\\Python37\\lib\\site-packages\\numpy\\lib\\npyio.py\u001b[0m in \u001b[0;36mload\u001b[1;34m(file, mmap_mode, allow_pickle, fix_imports, encoding)\u001b[0m\n\u001b[0;32m    415\u001b[0m             \u001b[0mown_fid\u001b[0m \u001b[1;33m=\u001b[0m \u001b[1;32mFalse\u001b[0m\u001b[1;33m\u001b[0m\u001b[1;33m\u001b[0m\u001b[0m\n\u001b[0;32m    416\u001b[0m         \u001b[1;32melse\u001b[0m\u001b[1;33m:\u001b[0m\u001b[1;33m\u001b[0m\u001b[1;33m\u001b[0m\u001b[0m\n\u001b[1;32m--> 417\u001b[1;33m             \u001b[0mfid\u001b[0m \u001b[1;33m=\u001b[0m \u001b[0mstack\u001b[0m\u001b[1;33m.\u001b[0m\u001b[0menter_context\u001b[0m\u001b[1;33m(\u001b[0m\u001b[0mopen\u001b[0m\u001b[1;33m(\u001b[0m\u001b[0mos_fspath\u001b[0m\u001b[1;33m(\u001b[0m\u001b[0mfile\u001b[0m\u001b[1;33m)\u001b[0m\u001b[1;33m,\u001b[0m \u001b[1;34m\"rb\"\u001b[0m\u001b[1;33m)\u001b[0m\u001b[1;33m)\u001b[0m\u001b[1;33m\u001b[0m\u001b[1;33m\u001b[0m\u001b[0m\n\u001b[0m\u001b[0;32m    418\u001b[0m             \u001b[0mown_fid\u001b[0m \u001b[1;33m=\u001b[0m \u001b[1;32mTrue\u001b[0m\u001b[1;33m\u001b[0m\u001b[1;33m\u001b[0m\u001b[0m\n\u001b[0;32m    419\u001b[0m \u001b[1;33m\u001b[0m\u001b[0m\n",
      "\u001b[1;31mFileNotFoundError\u001b[0m: [Errno 2] No such file or directory: 'A:/AutoTrain/GAME/Agent/system0_1672806467/Data/system0_1672717758_6/Train.npy'"
     ]
    }
   ],
   "source": [
    "def after_train(current_lv, env_name, agent_name, win, condition_pass_level):\n",
    "    dict_level = json.load(open(f'{SHOT_PATH}Log/level_game.json'))\n",
    "    dict_agent = json.load(open(f'{SHOT_PATH}Log/agent_all.json'))\n",
    "\n",
    "    state_train_env = dict_agent[agent_name][env_name]['State_level']\n",
    "\n",
    "    if dict_agent[agent_name]['First train'] == False:\n",
    "        if current_lv == dict_level[env_name]['level_max']:\n",
    "            dict_agent[agent_name]['First train'] = True\n",
    "            dict_agent[agent_name]['Level Train'] = current_lv\n",
    "            dict_agent[agent_name][env_name]['State_level'][0] = -1\n",
    "        \n",
    "        elif current_lv < dict_level[env_name]['level_max'] - 2:\n",
    "            dict_agent[agent_name]['First train'] = True\n",
    "            dict_agent[agent_name]['Level Train'] = current_lv\n",
    "            dict_agent[agent_name][env_name]['State_level'][0] = -1\n",
    "            dict_agent[agent_name]['Agent Save'] == False\n",
    "        else:\n",
    "            if win <= condition_pass_level:\n",
    "                if current_lv == dict_level[env_name]['level_max'] -2:\n",
    "                    dict_agent[agent_name]['First train'] = False\n",
    "                    dict_agent[agent_name][env_name]['State_level'][0] = 0\n",
    "                    dict_agent[agent_name][env_name]['State_level'][1] = current_lv//2\n",
    "                    dict_agent[agent_name]['Agent Save'] == False\n",
    "                else:\n",
    "                    dict_agent[agent_name]['First train'] = True\n",
    "                    dict_agent[agent_name]['Level Train'] = current_lv\n",
    "                    dict_agent[agent_name][env_name]['State_level'][0] = -1\n",
    "                    dict_agent[agent_name][env_name]['State_level'][1] = current_lv-1\n",
    "            else:\n",
    "                level_test = dict_level[env_name]['level_max']\n",
    "\n",
    "                __env__ = setup_game(env_name)\n",
    "                data_agent_env = list(np.load(f'{SHOT_PATH}Agent/{agent_name}/Data/{env_name}_{current_lv}/Train.npy',allow_pickle=True))\n",
    "                add_game_to_syspath(env_name)\n",
    "                p0 = load_module_player(agent_name).Agent\n",
    "                win_test, per = __env__.numba_main_2(p0, 10000, data_agent_env, level_test)\n",
    "                \n",
    "                dict_agent = json.load(open(f'{SHOT_PATH}Log/agent_all.json'))\n",
    "                if win_test > condition_pass_level:\n",
    "                    dict_agent[agent_name][env_name]['State_level'][1] = level_test\n",
    "                else:\n",
    "                    dict_agent[agent_name][env_name]['State_level'][1] = current_lv + 1\n",
    "\n",
    "                dict_agent[agent_name]['Level Train'] = current_lv\n",
    "                dict_agent[agent_name][env_name]['State_level'][0] = 0\n",
    "\n",
    "    else:\n",
    "        dict_agent[agent_name][env_name]['State_level'][0] = -1\n",
    "        dict_agent[agent_name]['Agent Save'] == False\n",
    "\n",
    "    save_json(f'{SHOT_PATH}Log/level_game.json', dict_level)\n",
    "    save_json(f'{SHOT_PATH}Log/agent_all.json', dict_agent)\n",
    "        \n",
    "    # return dict_agent\n",
    "\n",
    "after_train(6, 'system0_1672717758', 'system0_1672806467', 1, 0)"
   ]
  },
  {
   "cell_type": "code",
   "execution_count": null,
   "metadata": {},
   "outputs": [],
   "source": [
    "def add_to_strong_agent(env_name, agent_name, level, win, condition_pass_level):\n",
    "\n",
    "    if level == dict_level[env_name]['level_max'] and win > condition_pass_level: # (10000/(__env__.getAgentSize()))\n",
    "        check_dk = True\n",
    "        for env_name_check in dict_agent[agent_name]:\n",
    "            if env_name_check not in ['Elo', 'First train', 'Level Train']:\n",
    "                check_condition_1_env = False\n",
    "\n",
    "                level_max = dict_level[env_name_check]['level_max']\n",
    "                for id_level in range(level_max, level_max-3, -1):\n",
    "                    if str(id_level) in dict_agent[agent_name][env_name_check]:\n",
    "                        if len(dict_agent[agent_name][env_name_check][str(id_level)]) > 0:\n",
    "                            if dict_agent[agent_name][env_name_check][str(id_level)][0] > condition_pass_level:\n",
    "                                check_condition_1_env = True\n",
    "                                break\n",
    "\n",
    "                if check_condition_1_env == False:\n",
    "                    check_dk = False\n",
    "            \n",
    "        df_run = pd.read_json(f'{SHOT_PATH}Log/State.json')\n",
    "        if check_dk == True: \n",
    "            if agent_name not in list(df_run[\"ID\"]):\n",
    "                if os.path.exists(f'{SHOT_PATH}Agent/{agent_name}/Data/{env_name}_0/') == False:\n",
    "                    folder_name_old = f'{SHOT_PATH}Agent/{agent_name}/Data/{env_name}_{level}/'\n",
    "                    folder_name_new = f'{SHOT_PATH}Agent/{agent_name}/Data/{env_name}_0/'\n",
    "                    os.rename(folder_name_old, folder_name_new)\n",
    "\n",
    "                id_add_agent = len(df_run)\n",
    "                df_run.loc[id_add_agent] = 0\n",
    "                df_run['ID'][id_add_agent] = agent_name\n",
    "                df_run[env_name][id_add_agent] = win//10\n",
    "                df_run.to_json(f'{SHOT_PATH}Log/State.json')"
   ]
  },
  {
   "cell_type": "code",
   "execution_count": 21,
   "metadata": {},
   "outputs": [],
   "source": [
    "def update_json():\n",
    "    dict_level = json.load(open(f'{SHOT_PATH}Log/level_game.json'))\n",
    "    dict_agent = json.load(open(f'{SHOT_PATH}Log/agent_all.json'))\n",
    "\n",
    "    for agent in dict_agent:\n",
    "        for env_name in dict_level:\n",
    "            if env_name not in dict_agent[agent]:\n",
    "                dict_agent[agent][env_name] = {'State_level':[0, 0 , dict_level[env_name]['level_max']],\n",
    "                                                'Agent Save': True}\n",
    "            for level in range(dict_level[env_name]['level_max']+1):\n",
    "                if str(level) not in dict_agent[agent][env_name]:\n",
    "                    dict_agent[agent][env_name][level] = []\n",
    "    save_json(f'{SHOT_PATH}Log/agent_all.json', dict_agent)\n",
    "\n",
    "\n",
    "update_json()"
   ]
  }
 ],
 "metadata": {
  "kernelspec": {
   "display_name": "Python 3",
   "language": "python",
   "name": "python3"
  },
  "language_info": {
   "codemirror_mode": {
    "name": "ipython",
    "version": 3
   },
   "file_extension": ".py",
   "mimetype": "text/x-python",
   "name": "python",
   "nbconvert_exporter": "python",
   "pygments_lexer": "ipython3",
   "version": "3.7.7"
  },
  "orig_nbformat": 4,
  "vscode": {
   "interpreter": {
    "hash": "252189e587d1e2aeba4a06e91fa71896c7a7f6e22e918b9407c7cde4ef2d5985"
   }
  }
 },
 "nbformat": 4,
 "nbformat_minor": 2
}
