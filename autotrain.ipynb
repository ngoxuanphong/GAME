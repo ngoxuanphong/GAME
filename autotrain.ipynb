{
 "cells": [
  {
   "cell_type": "code",
   "execution_count": 3,
   "metadata": {},
   "outputs": [],
   "source": [
    "from CheckEnv import check_env\n",
    "from CheckPlayer import check_agent\n",
    "from CheckEnvAgent import CreateFolder, load_module_player, add_game_to_syspath, setup_game, save_json\n",
    "from setup import SHOT_PATH, time_run_game\n",
    "import pandas as pd\n",
    "import importlib.util\n",
    "import numpy as np\n",
    "import sys, time, shutil\n",
    "import json\n",
    "\n",
    "SHOT_PATH = 'A:/AutoTrain/GAME/'\n",
    "\n",
    "def setup_game(game_name):\n",
    "    spec = importlib.util.spec_from_file_location('env', f\"{SHOT_PATH}base/{game_name}/env.py\")\n",
    "    module = importlib.util.module_from_spec(spec)\n",
    "    sys.modules[spec.name] = module \n",
    "    spec.loader.exec_module(module)\n",
    "    return module\n",
    "\n",
    "def load_module_player(player):\n",
    "    return  importlib.util.spec_from_file_location('Agent_player', f\"{SHOT_PATH}Agent/{player}/Agent_player.py\").loader.load_module()"
   ]
  },
  {
   "cell_type": "code",
   "execution_count": 6,
   "metadata": {},
   "outputs": [],
   "source": [
    "dict_level_all = {'Level max': 1}\n",
    "level = 1\n",
    "if str(level) not in dict_level_all:\n",
    "    dict_level_all[level] = {'Can Train': False,\n",
    "                            'Agents Name': []}\n",
    "    save_json(f'{SHOT_PATH}Log/level_game_all.json', dict_level_all)"
   ]
  },
  {
   "cell_type": "code",
   "execution_count": null,
   "metadata": {},
   "outputs": [],
   "source": [
    "def get_level(env_name):\n",
    "    level = dict_level_all['Level max']\n",
    "    #Khi có agent mới mà đủ điều kiện thì thêm luôn vào đây\n",
    "    #Đang chờ\n",
    "    if str(level) in dict_level_all:\n",
    "        if len(dict_level_all[str(level)]['Agent name']) >= 15: #Thêm level mới khi có level cũ đã đủ số lượng agent\n",
    "            dict_level_all[level]['Can Train'] = True\n",
    "            dict_level_all['Level max'] += 1\n",
    "            dict_level_all[level+1] = {'Can Train': False,\n",
    "                                        'Agents Name': []} \n",
    "    "
   ]
  },
  {
   "cell_type": "code",
   "execution_count": null,
   "metadata": {},
   "outputs": [],
   "source": [
    "def get_new_agent_for_game(env_name): #Khi không đủ agent để làm lv1 thì lấy thêm một agent train lại và làm level của game đó\n",
    "    add_game_to_syspath(env_name)\n",
    "    if \n",
    "    "
   ]
  },
  {
   "cell_type": "code",
   "execution_count": null,
   "metadata": {},
   "outputs": [],
   "source": [
    "df_run = pd.read_json(f'{SHOT_PATH}Log/State.json')\n",
    "df_agent = pd.read_json(f'{SHOT_PATH}Log/StateAgent.json')\n",
    "df_env = pd.read_json(f'{SHOT_PATH}Log/StateEnv.json')\n",
    "\n",
    "list_tong = list(df_run.index)\n",
    "dict_level = json.load(open(f'{SHOT_PATH}Log/level_game.json'))\n",
    "dict_agent = json.load(open(f'{SHOT_PATH}Log/agent_all.json'))\n",
    "PASS_LEVEL = 250\n",
    "df_run"
   ]
  },
  {
   "cell_type": "code",
   "execution_count": null,
   "metadata": {},
   "outputs": [],
   "source": [
    "df_run = pd.read_excel(f'{SHOT_PATH}Log/State.xlsx')\n",
    "df_run"
   ]
  },
  {
   "cell_type": "code",
   "execution_count": 4,
   "metadata": {},
   "outputs": [],
   "source": [
    "df_run.to_excel('Log\\State.xlsx', index=False)"
   ]
  },
  {
   "cell_type": "code",
   "execution_count": 5,
   "metadata": {},
   "outputs": [],
   "source": [
    "df_run.to_json(f'{SHOT_PATH}Log/State.json')"
   ]
  },
  {
   "cell_type": "code",
   "execution_count": 24,
   "metadata": {},
   "outputs": [],
   "source": [
    "df_run['TLMN'] = np.nan\n",
    "df_run['TLMN_v2'] = np.nan\n",
    "df_run['Splendor_v2'] = np.nan\n",
    "df_run['Splendor_v3'] = np.nan\n",
    "df_run['MachiKoro'] = np.nan\n",
    "df_run['Sheriff'] = np.nan\n",
    "df_run['SushiGo'] = np.nan\n",
    "\n",
    "df_run.to_json(f'{SHOT_PATH}Log/State.json')"
   ]
  }
 ],
 "metadata": {
  "kernelspec": {
   "display_name": "Python 3",
   "language": "python",
   "name": "python3"
  },
  "language_info": {
   "codemirror_mode": {
    "name": "ipython",
    "version": 3
   },
   "file_extension": ".py",
   "mimetype": "text/x-python",
   "name": "python",
   "nbconvert_exporter": "python",
   "pygments_lexer": "ipython3",
   "version": "3.10.0"
  },
  "orig_nbformat": 4,
  "vscode": {
   "interpreter": {
    "hash": "31671a60cee805c34c73116577b485118ff3a75c458d3004d49632c19702ac60"
   }
  }
 },
 "nbformat": 4,
 "nbformat_minor": 2
}
