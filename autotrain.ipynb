{
 "cells": [
  {
   "cell_type": "code",
   "execution_count": 51,
   "metadata": {},
   "outputs": [],
   "source": [
    "from CheckEnv import check_env\n",
    "from CheckPlayer import check_agent\n",
    "from setup import path, SHOT_PATH, time_run_game\n",
    "import pandas as pd\n",
    "import importlib.util\n",
    "import numpy as np\n",
    "import sys\n",
    "import json\n",
    "\n",
    "SHOT_PATH = 'A:/AutoTrain/GAME/'\n",
    "\n",
    "def setup_game(game_name):\n",
    "    spec = importlib.util.spec_from_file_location('env', f\"{SHOT_PATH}base/{game_name}/env.py\")\n",
    "    module = importlib.util.module_from_spec(spec)\n",
    "    sys.modules[spec.name] = module \n",
    "    spec.loader.exec_module(module)\n",
    "    return module\n",
    "\n",
    "def load_module_player(player):\n",
    "    return  importlib.util.spec_from_file_location('Agent_player', f\"{SHOT_PATH}Agent/{player}/Agent_player.py\").loader.load_module()"
   ]
  },
  {
   "cell_type": "code",
   "execution_count": 58,
   "metadata": {},
   "outputs": [],
   "source": [
    "df_run = pd.read_json(f'{SHOT_PATH}Log/State.json')\n",
    "df_agent = pd.read_json(f'{SHOT_PATH}Log/StateAgent.json')\n",
    "df_env = pd.read_json(f'{SHOT_PATH}Log/StateEnv.json')\n",
    "\n",
    "list_tong = list(df_run.index)\n",
    "dict_level = json.load(open(f'{SHOT_PATH}Log/level_game.json'))\n",
    "dict_agent = json.load(open(f'{SHOT_PATH}Log/agent_all.json'))\n",
    "PASS_LEVEL = 250"
   ]
  },
  {
   "cell_type": "code",
   "execution_count": 55,
   "metadata": {},
   "outputs": [],
   "source": [
    "def choose_game_level_train(dict_agent, dict_level, agent_name):\n",
    "    level_train = int((dict_agent[agent_name]['Elo'] - 1200)/10)\n",
    "    if dict_agent[agent_name]['Elo'] <= 1180:\n",
    "        return False, False\n",
    "        \n",
    "    for env_name in dict_agent[agent_name]:\n",
    "        if env_name != 'Elo':\n",
    "            if dict_level['Splendor_v3']['level_max'] < level_train:\n",
    "                level_train = dict_level['Splendor_v3']['level_max']\n",
    "            if dict_agent[agent_name][env_name][str(level_train)] == []:\n",
    "                dict_agent[agent_name][env_name][str(level_train)] = [0, 0]\n",
    "                return env_name, level_train\n",
    "\n",
    "    return False, False\n",
    "\n",
    "env_name, level_train = choose_game_level_train(dict_agent, dict_level, agent_name)"
   ]
  },
  {
   "cell_type": "code",
   "execution_count": 65,
   "metadata": {},
   "outputs": [
    {
     "data": {
      "text/plain": [
       "{'Splendor_v3': {'Can_Split_Level': 'True',\n",
       "  'level_max': 4,\n",
       "  'id_remove': [10, 4, 9, 5, 2, 3, 8, 10, 4, 9, 5, 7, 2, 8],\n",
       "  '1': [[4, 9, 5],\n",
       "   [5489.0, 5501.0, 5519.0],\n",
       "   ['AgentBias5', 'AgentBias10', 'AgentBias6']],\n",
       "  '2': [[2, 3, 8],\n",
       "   [251, 275, 278],\n",
       "   ['AgentBias3', 'AgentBias4', 'AgentBias9']],\n",
       "  '3': [[4, 9, 5],\n",
       "   [5489.0, 5501.0, 5519.0],\n",
       "   ['AgentBias5', 'AgentBias10', 'AgentBias6']],\n",
       "  '4': [[7, 2, 8],\n",
       "   [274, 5598.0, 5599.0],\n",
       "   ['AgentBias8', 'AgentBias3', 'AgentBias9']]},\n",
       " 'MachiKoro': {'Can_Split_Level': 'True',\n",
       "  'level_max': 2,\n",
       "  'id_remove': [10, 3, 4, 9, 1, 7, 0],\n",
       "  '1': [[3, 4, 9],\n",
       "   [7813, 7822, 8168],\n",
       "   ['AgentBias4', 'AgentBias5', 'AgentBias10']],\n",
       "  '2': [[1, 7, 0],\n",
       "   [255, 368, 405],\n",
       "   ['AgentBias2', 'AgentBias8', 'AgentBias1']]},\n",
       " 'TLMN': {'Can_Split_Level': 'True',\n",
       "  'level_max': 1,\n",
       "  'id_remove': [10, 2, 5, 4],\n",
       "  '1': [[2, 5, 4],\n",
       "   [3613, 3641, 3709],\n",
       "   ['AgentBias3', 'AgentBias6', 'AgentBias5']]},\n",
       " 'TLMN_v2': {'Can_Split_Level': 'True',\n",
       "  'level_max': 1,\n",
       "  'id_remove': [10, 3, 0, 8],\n",
       "  '1': [[3, 0, 8],\n",
       "   [3747, 3887, 3902],\n",
       "   ['AgentBias4', 'AgentBias1', 'AgentBias9']]},\n",
       " 'Splendor_v2': {'Can_Split_Level': 'True',\n",
       "  'level_max': 3,\n",
       "  'id_remove': [10, 7, 0, 1, 6, 8, 3, 2, 4, 9],\n",
       "  '1': [[7, 0, 1],\n",
       "   [9552, 9579, 9603],\n",
       "   ['AgentBias8', 'AgentBias1', 'AgentBias2']],\n",
       "  '2': [[6, 8, 3],\n",
       "   [363, 372, 381],\n",
       "   ['AgentBias7', 'AgentBias9', 'AgentBias4']],\n",
       "  '3': [[2, 4, 9],\n",
       "   [260, 280, 284],\n",
       "   ['AgentBias3', 'AgentBias5', 'AgentBias10']]}}"
      ]
     },
     "execution_count": 65,
     "metadata": {},
     "output_type": "execute_result"
    }
   ],
   "source": [
    "dict_level"
   ]
  },
  {
   "cell_type": "code",
   "execution_count": 14,
   "metadata": {},
   "outputs": [
    {
     "data": {
      "text/plain": [
       "1209.2974666666667"
      ]
     },
     "execution_count": 14,
     "metadata": {},
     "output_type": "execute_result"
    }
   ],
   "source": [
    "win = 6577\n",
    "elo = 1200\n",
    "time_train_level = 15\n",
    "elo += (win/SCORE_PASS) + (time_run_game/time_train_level)\n",
    "elo"
   ]
  },
  {
   "cell_type": "code",
   "execution_count": 17,
   "metadata": {},
   "outputs": [
    {
     "name": "stdout",
     "output_type": "stream",
     "text": [
      "161\n",
      "165\n",
      "60\n",
      "62\n"
     ]
    }
   ],
   "source": [
    "game_name = 'Splendor_v3'\n",
    "for game_name in ['Splendor_v3', 'Splendor', 'TLMN', 'TLMN_v2']:\n",
    "    env = setup_game(game_name)\n",
    "    print(env.getStateSize())"
   ]
  },
  {
   "cell_type": "code",
   "execution_count": 9,
   "metadata": {},
   "outputs": [
    {
     "data": {
      "text/plain": [
       "{'Elo': 1200,\n",
       " 'Splendor_v3': {'0': [], '1': [], '2': [], '3': [], '4': []},\n",
       " 'MachiKoro': {'0': [], '1': [], '2': []},\n",
       " 'TLMN': {'0': [], '1': []},\n",
       " 'TLMN_v2': {'0': [], '1': []},\n",
       " 'Splendor_v2': {'0': [], '1': [], '2': [], '3': []}}"
      ]
     },
     "execution_count": 9,
     "metadata": {},
     "output_type": "execute_result"
    }
   ],
   "source": [
    "agent_name = 'Vang12345_1672232052'\n",
    "\n",
    "dict_agent[agent_name]"
   ]
  },
  {
   "cell_type": "code",
   "execution_count": 5,
   "metadata": {},
   "outputs": [
    {
     "name": "stdout",
     "output_type": "stream",
     "text": [
      "[(3, 1, 'Vang12345_1672232052', datetime.datetime(2022, 12, 28, 19, 54, 36), 107, 0)]\n"
     ]
    }
   ],
   "source": [
    "from server.mysql_connector import mydb, mycursor\n",
    "\n",
    "old_notifi = (107,)\n",
    "mycursor.execute(\"SELECT * FROM CodeBot WHERE NotificateID = %s\", old_notifi)\n",
    "all_checking = mycursor.fetchall()\n",
    "print(all_checking)"
   ]
  },
  {
   "cell_type": "code",
   "execution_count": null,
   "metadata": {},
   "outputs": [],
   "source": [
    "\n",
    "old_notifi = (100,)\n",
    "mycursor.execute(\"SELECT * FROM CodeBot WHERE NotificateID = %s\", old_notifi)\n",
    "all_checking = mycursor.fetchall()\n",
    "\n",
    "if len(all_checking) > 0:\n",
    "    info_get = all_checking[0]\n",
    "    id_from_table = info_get[0]\n",
    "    name = info_get[2]\n",
    "    "
   ]
  }
 ],
 "metadata": {
  "kernelspec": {
   "display_name": "Python 3",
   "language": "python",
   "name": "python3"
  },
  "language_info": {
   "codemirror_mode": {
    "name": "ipython",
    "version": 3
   },
   "file_extension": ".py",
   "mimetype": "text/x-python",
   "name": "python",
   "nbconvert_exporter": "python",
   "pygments_lexer": "ipython3",
   "version": "3.10.0"
  },
  "orig_nbformat": 4,
  "vscode": {
   "interpreter": {
    "hash": "31671a60cee805c34c73116577b485118ff3a75c458d3004d49632c19702ac60"
   }
  }
 },
 "nbformat": 4,
 "nbformat_minor": 2
}
