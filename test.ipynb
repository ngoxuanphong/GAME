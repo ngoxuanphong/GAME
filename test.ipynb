{
 "cells": [
  {
   "cell_type": "code",
   "execution_count": 3,
   "metadata": {},
   "outputs": [
    {
     "data": {
      "text/plain": [
       "([0, 0, 0, 1, 0], [0])"
      ]
     },
     "execution_count": 3,
     "metadata": {},
     "output_type": "execute_result"
    }
   ],
   "source": [
    "from base.Splendor_v2.env import *\n",
    "import time\n",
    "from numba.core.errors import NumbaDeprecationWarning, NumbaPendingDeprecationWarning\n",
    "import warnings\n",
    "import random\n",
    "\n",
    "warnings.simplefilter('ignore', category=NumbaDeprecationWarning)\n",
    "warnings.simplefilter('ignore', category=NumbaPendingDeprecationWarning)\n",
    "list_player = [player_random]*4\n",
    "normal_main(list_player, 1, [0])"
   ]
  },
  {
   "cell_type": "code",
   "execution_count": 77,
   "metadata": {},
   "outputs": [
    {
     "ename": "TypeError",
     "evalue": "can't unbox heterogeneous list: type(CPUDispatcher(<function player_random1 at 0x000001E204159D80>)) != type(CPUDispatcher(<function player_random2 at 0x000001E2040B4310>))",
     "output_type": "error",
     "traceback": [
      "\u001b[1;31m---------------------------------------------------------------------------\u001b[0m",
      "\u001b[1;31mTypeError\u001b[0m                                 Traceback (most recent call last)",
      "\u001b[1;32ma:\\GAME\\test.ipynb Cell 2\u001b[0m in \u001b[0;36m<cell line: 79>\u001b[1;34m()\u001b[0m\n\u001b[0;32m     <a href='vscode-notebook-cell:/a%3A/GAME/test.ipynb#X11sZmlsZQ%3D%3D?line=76'>77</a>\u001b[0m list_player \u001b[39m=\u001b[39m [player_random1, player_random2, player_random3, player_random4]\n\u001b[0;32m     <a href='vscode-notebook-cell:/a%3A/GAME/test.ipynb#X11sZmlsZQ%3D%3D?line=77'>78</a>\u001b[0m \u001b[39m# list_player = [player_random1]*4\u001b[39;00m\n\u001b[1;32m---> <a href='vscode-notebook-cell:/a%3A/GAME/test.ipynb#X11sZmlsZQ%3D%3D?line=78'>79</a>\u001b[0m normal_main(list_player, \u001b[39m1\u001b[39;49m, temp_file, [\u001b[39m0\u001b[39;49m])\n",
      "\u001b[1;31mTypeError\u001b[0m: can't unbox heterogeneous list: type(CPUDispatcher(<function player_random1 at 0x000001E204159D80>)) != type(CPUDispatcher(<function player_random2 at 0x000001E2040B4310>))"
     ]
    }
   ],
   "source": [
    "@jit(nopython=True)\n",
    "def one_game(list_player, temp_file, per_file):\n",
    "    env, lv1, lv2, lv3 = Reset()\n",
    "    _cc = 0\n",
    "    while env[100] <= 400 and _cc <= 10000:\n",
    "        p_idx = env[100]%4\n",
    "        p_state = get_player_state(env, lv1, lv2, lv3)\n",
    "        act, temp_file[p_idx], per_file = list_player[p_idx](p_state, temp_file[p_idx], per_file)\n",
    "        env, lv1, lv2, lv3 = step(act, env, lv1, lv2, lv3)\n",
    "\n",
    "        if close_game(env) != 0:\n",
    "            break\n",
    "\n",
    "        _cc += 1\n",
    "    \n",
    "    turn = env[100]\n",
    "    for i in range(4):\n",
    "        env[100] = i\n",
    "        act, temp_file[i], per_file = list_player[i](get_player_state(env, lv1, lv2, lv3), temp_file[i], per_file)\n",
    "    \n",
    "    env[100] = turn\n",
    "    return close_game(env), per_file\n",
    "    \n",
    "@jit(nopython=True)\n",
    "def normal_main(list_player, num_game, temp_file, per_file):\n",
    "    if len(list_player) != 4:\n",
    "        print('Game chỉ cho phép có đúng 4 người chơi')\n",
    "        return [-1,-1,-1,-1,-1], per_file\n",
    "    \n",
    "    num_won = [0,0,0,0,0]\n",
    "    p_lst_idx = np.array([0,1,2,3])\n",
    "    # temp_file = [np.array([0]),np.array([1]),np.array([2]),np.array([3])]\n",
    "    for _n in range(num_game):\n",
    "        np.random.shuffle(p_lst_idx)\n",
    "        temp_file_new = [temp_file[p_lst_idx[i]] for i in range(amount_player())]\n",
    "        list_player_new = [list_player[p_lst_idx[i]] for i in range(amount_player())]\n",
    "        # print(temp_file_new, p_lst_idx)\n",
    "        winner,per_file = one_game(\n",
    "            list_player_new, temp_file_new, per_file,\n",
    "        )\n",
    "        # temp_file = [temp_file_new[np.where(p_lst_idx == i)[0][0]] for i in range(amount_player())]\n",
    "        # print(temp_file)\n",
    "        if winner != 0:\n",
    "            num_won[p_lst_idx[winner-1]] += 1\n",
    "        else:\n",
    "            num_won[4] += 1\n",
    "\n",
    "    return num_won, per_file\n",
    "\n",
    "\n",
    "@jit(nopython=True)\n",
    "def player_random1(p_state, temp_file, per_file):\n",
    "    arr_action = get_list_action(p_state)\n",
    "    act_idx = np.random.randint(0, len(arr_action))\n",
    "    return arr_action[act_idx], temp_file, per_file\n",
    "\n",
    "@jit(nopython=True)\n",
    "def player_random2(p_state, temp_file, per_file):\n",
    "    arr_action = get_list_action(p_state)\n",
    "    act_idx = np.random.randint(0, len(arr_action))\n",
    "    return arr_action[act_idx], temp_file, per_file\n",
    "\n",
    "@jit(nopython=True)\n",
    "def player_random3(p_state, temp_file, per_file):\n",
    "    arr_action = get_list_action(p_state)\n",
    "    act_idx = np.random.randint(0, len(arr_action))\n",
    "    return arr_action[act_idx], temp_file, per_file\n",
    "\n",
    "@jit(nopython=True)\n",
    "def player_random4(p_state, temp_file, per_file):\n",
    "    arr_action = get_list_action(p_state)\n",
    "    act_idx = np.random.randint(0, len(arr_action))\n",
    "    return arr_action[act_idx], temp_file, per_file\n",
    "\n",
    "\n",
    "temp_file = [0,0,0,0]\n",
    "list_player = [player_random1, player_random2, player_random3, player_random4]\n",
    "# list_player = [player_random1]*4\n",
    "normal_main(list_player, 1, temp_file, [0])"
   ]
  },
  {
   "cell_type": "code",
   "execution_count": 83,
   "metadata": {},
   "outputs": [
    {
     "name": "stdout",
     "output_type": "stream",
     "text": [
      "[28.21099541 27.53790019 23.67228494 28.13833121 24.08946581 24.29424752\n",
      " 27.86205202 28.78313607 22.65033211 24.07499665 24.42562721 24.03683442\n",
      " 23.5511485  27.33116075 21.96629158 24.73688197 25.46773724 26.19530107\n",
      " 27.26464263 26.10011909 24.5781117  26.62955246 24.67827957 27.06036487\n",
      " 27.32434089 27.32119765 21.97674005 24.8258612  25.57215473 23.22157257\n",
      " 27.95597429 24.14757423 19.77176463 27.37180802 25.46550932 26.30013561\n",
      " 25.07252649 27.49111339 27.11120122 29.03897486 20.88178445 19.87279423]\n"
     ]
    }
   ],
   "source": [
    "@njit()\n",
    "def sigmoid(x:np.float64) -> np.float64:\n",
    "    sig = 1 / (1 + np.exp(-x))\n",
    "    return sig\n",
    "\n",
    "@njit()\n",
    "def silu(x:np.float64, theda = 1.0) -> np.float64:\n",
    "    return x * sigmoid(theda *x)\n",
    "    \n",
    "@njit()\n",
    "def neural_network(play_state:np.float64, file_temp) -> np.float64:\n",
    "    # if 55 < len(play_state) < 70 or len(play_state) > 300 : # TLMN , TLMN_v2 , CENTURY\n",
    "    #     matran1 = np.dot(play_state,file_temp[0])\n",
    "    #     matran1 = 1 / (1 + np.exp(-matran1))\n",
    "    #     matran21 = np.dot(matran1,file_temp[1])\n",
    "    #     matran21 *= (matran21 > 0)\n",
    "    #     matran2 = np.dot(matran21, file_temp[2])\n",
    "    #     return matran2.astype(np.float64)\n",
    "    # elif 120 <len(play_state)  < 170:# SPLENDOr SPlendor_view_only\n",
    "        matrix1 = np.dot(play_state, file_temp[0])\n",
    "        matrixRL1 = 1 / (1 + np.exp(-matrix1))\n",
    "        matrix2 = np.dot(matrixRL1, file_temp[1])\n",
    "        matrixRL2 = 1 / (1 + np.exp(-matrix2))\n",
    "        all_action_val = np.dot(matrixRL2, file_temp[2])\n",
    "        return all_action_val.astype(np.float64)  \n",
    "    # elif 170 < len(play_state) < 250  : #SHERIFF \n",
    "    #     matran1 = np.dot(play_state, file_temp[0])\n",
    "    #     matran1 = silu(matran1, theda = 1.0)\n",
    "    #     matran2 = np.dot(matran1, file_temp[1])\n",
    "    #     return matran2.astype(np.float64)\n",
    "    # else :#SUSHIGO-main, MACHIKOR0\n",
    "    #     matran1 = np.dot(play_state, file_temp[0])\n",
    "    #     matran1 = silu(matran1, theda = 1.0)\n",
    "    #     matran2 = np.dot(matran1, file_temp[1])\n",
    "    #     return matran2.astype(np.float64)\n",
    "play_state = np.array([7.0, 7.0, 7.0, 7.0, 7.0, 5.0, 0.0, 0.0, 0.0, 0.0, 0.0, 0.0, 0.0, 0.0, 0.0, 0.0, 0.0, 0.0, 0.0, 0.0, 0.0, 0.0, 0.0, 0.0, 3.0, 0.0, 4.0, 2.0, 0.0, 0.0, 1.0, 0.0, 0.0, 0.0, 2.0, 0.0, 0.0, 0.0, 2.0, 0.0, 2.0, 0.0, 1.0, 0.0, 0.0, 2.0, 2.0, 1.0, 1.0, 0.0, 0.0, 4.0, 2.0, 2.0, 4.0, 5.0, 0.0, 0.0, 3.0, 0.0, 2.0, 1.0, 0.0, 5.0, 0.0, 0.0, 0.0, 2.0, 4.0, 5.0, 0.0, 0.0, 0.0, 0.0, 3.0, 0.0, 0.0, 5.0, 3.0, 3.0, 3.0, 3.0, 2.0, 3.0, 3.0, 0.0, 3.0, 5.0, 5.0, 1.0, 0.0, 3.0, 0.0, 0.0, 7.0, 4.0, 3.0, 7.0, 0.0, 0.0, 0.0, 0.0, 0.0, 4.0, 4.0, 0.0, 0.0, 3.0, 3.0, 3.0, 0.0, 0.0, 0.0, 3.0, 0.0, 3.0, 3.0, 4.0, 0.0, 4.0, 0.0, 0.0, 0.0, 4.0, 0.0, 0.0, 4.0, 0.0, 0.0, 0.0, 0.0, 0.0, 0.0, 0.0, 0.0, 0.0, 0.0, 0.0, 0.0, 0.0, 0.0, 0.0, 0.0, 0.0, 0.0, 0.0, 0.0, 0.0, 0.0, 0.0, 0.0, 0.0, 0.0, 0.0, 0.0, 0.0, 1.0, 1.0, 1.0, 12.0])\n",
    "file_temp = [(np.random.random((len(play_state),100)))*2 -0.6 ,np.random.random((100, 50)),np.random.random((50,amount_action()))]\n",
    "print(neural_network(play_state, file_temp))"
   ]
  },
  {
   "cell_type": "code",
   "execution_count": 87,
   "metadata": {},
   "outputs": [
    {
     "ename": "TypingError",
     "evalue": "Failed in nopython mode pipeline (step: nopython frontend)\n\u001b[1m\u001b[1m\u001b[1m\u001b[1mFailed in nopython mode pipeline (step: nopython frontend)\n\u001b[1m\u001b[1m\u001b[1m\u001b[1m\u001b[1m\u001b[1m\u001b[1m\u001b[1m\u001b[1m\u001b[1mFailed in nopython mode pipeline (step: nopython frontend)\n\u001b[1m\u001b[1m\u001b[1m\u001b[1m\u001b[1m\u001b[1m\u001b[1m\u001b[1m\u001b[1m\u001b[1m\u001b[1m\u001b[1m\u001b[1m\u001b[1m\u001b[1m\u001b[1mFailed in nopython mode pipeline (step: nopython frontend)\n\u001b[1m\u001b[1m\u001b[1mNo implementation of function Function(<function dot at 0x000001E25C77CC10>) found for signature:\n \n >>> dot(float64, array(float64, 1d, C))\n \nThere are 4 candidate implementations:\n\u001b[1m      - Of which 4 did not match due to:\n      Overload in function '_OverloadWrapper._build.<locals>.ol_generated': File: numba\\core\\overload_glue.py: Line 131.\n        With argument(s): '(float64, array(float64, 1d, C))':\u001b[0m\n\u001b[1m       Rejected as the implementation raised a specific error:\n         TypingError: Failed in nopython mode pipeline (step: nopython frontend)\n       \u001b[1m\u001b[1m\u001b[1mNo implementation of function Function(<intrinsic stub>) found for signature:\n        \n        >>> stub(float64, array(float64, 1d, C))\n        \n       There are 2 candidate implementations:\n       \u001b[1m  - Of which 2 did not match due to:\n         Intrinsic of function 'stub': File: numba\\core\\overload_glue.py: Line 35.\n           With argument(s): '(float64, array(float64, 1d, C))':\u001b[0m\n       \u001b[1m   No match.\u001b[0m\n       \u001b[0m\n       \u001b[0m\u001b[1mDuring: resolving callee type: Function(<intrinsic stub>)\u001b[0m\n       \u001b[0m\u001b[1mDuring: typing of call at <string> (3)\n       \u001b[0m\n       \u001b[1m\n       File \"<string>\", line 3:\u001b[0m\n       \u001b[1m<source missing, REPL/exec in use?>\u001b[0m\n\u001b[0m\n  raised from c:\\Users\\ADMIN\\AppData\\Local\\Programs\\Python\\Python310\\lib\\site-packages\\numba\\core\\typeinfer.py:1086\n\u001b[0m\n\u001b[0m\u001b[1mDuring: resolving callee type: Function(<function dot at 0x000001E25C77CC10>)\u001b[0m\n\u001b[0m\u001b[1mDuring: typing of call at C:\\Users\\ADMIN\\AppData\\Local\\Temp\\ipykernel_8692\\2562785662.py (22)\n\u001b[0m\n\u001b[1m\nFile \"C:\\Users\\ADMIN\\AppData\\Local\\Temp\\ipykernel_8692\\2562785662.py\", line 22:\u001b[0m\n\u001b[1mdef neural_network(play_state:np.float64, file_temp) -> np.float64:\n    <source elided>\n        matrixRL1 = 1 / (1 + np.exp(-matrix1))\n\u001b[1m        matrix2 = np.dot(matrixRL1, file_temp[1])\n\u001b[0m        \u001b[1m^\u001b[0m\u001b[0m\n\n\u001b[0m\u001b[1mDuring: resolving callee type: type(CPUDispatcher(<function neural_network at 0x000001E20415A950>))\u001b[0m\n\u001b[0m\u001b[1mDuring: typing of call at C:\\Users\\ADMIN\\AppData\\Local\\Temp\\ipykernel_8692\\343904026.py (13)\n\u001b[0m\n\u001b[0m\u001b[1mDuring: resolving callee type: type(CPUDispatcher(<function neural_network at 0x000001E20415A950>))\u001b[0m\n\u001b[0m\u001b[1mDuring: typing of call at C:\\Users\\ADMIN\\AppData\\Local\\Temp\\ipykernel_8692\\343904026.py (13)\n\u001b[0m\n\u001b[0m\u001b[1mDuring: resolving callee type: type(CPUDispatcher(<function neural_network at 0x000001E20415A950>))\u001b[0m\n\u001b[0m\u001b[1mDuring: typing of call at C:\\Users\\ADMIN\\AppData\\Local\\Temp\\ipykernel_8692\\343904026.py (13)\n\u001b[0m\n\u001b[0m\u001b[1mDuring: resolving callee type: type(CPUDispatcher(<function neural_network at 0x000001E20415A950>))\u001b[0m\n\u001b[0m\u001b[1mDuring: typing of call at C:\\Users\\ADMIN\\AppData\\Local\\Temp\\ipykernel_8692\\343904026.py (13)\n\u001b[0m\n\u001b[0m\u001b[1mDuring: resolving callee type: type(CPUDispatcher(<function neural_network at 0x000001E20415A950>))\u001b[0m\n\u001b[0m\u001b[1mDuring: typing of call at C:\\Users\\ADMIN\\AppData\\Local\\Temp\\ipykernel_8692\\343904026.py (13)\n\u001b[0m\n\u001b[0m\u001b[1mDuring: resolving callee type: type(CPUDispatcher(<function neural_network at 0x000001E20415A950>))\u001b[0m\n\u001b[0m\u001b[1mDuring: typing of call at C:\\Users\\ADMIN\\AppData\\Local\\Temp\\ipykernel_8692\\343904026.py (13)\n\u001b[0m\n\u001b[0m\u001b[1mDuring: resolving callee type: type(CPUDispatcher(<function neural_network at 0x000001E20415A950>))\u001b[0m\n\u001b[0m\u001b[1mDuring: typing of call at C:\\Users\\ADMIN\\AppData\\Local\\Temp\\ipykernel_8692\\343904026.py (13)\n\u001b[0m\n\u001b[0m\u001b[1mDuring: resolving callee type: type(CPUDispatcher(<function neural_network at 0x000001E20415A950>))\u001b[0m\n\u001b[0m\u001b[1mDuring: typing of call at C:\\Users\\ADMIN\\AppData\\Local\\Temp\\ipykernel_8692\\343904026.py (13)\n\u001b[0m\n\u001b[1m\nFile \"C:\\Users\\ADMIN\\AppData\\Local\\Temp\\ipykernel_8692\\343904026.py\", line 13:\u001b[0m\n\u001b[1mdef playerRandom1(play_state:np.float64,file_temp:list,file_per:list):\n    <source elided>\n    # raise 1\n\u001b[1m    matran2 = neural_network(play_state, file_temp)\n\u001b[0m    \u001b[1m^\u001b[0m\u001b[0m\n\n\u001b[0m\u001b[1mDuring: resolving callee type: type(CPUDispatcher(<function playerRandom1 at 0x000001E27F627E20>))\u001b[0m\n\u001b[0m\u001b[1mDuring: typing of call at C:\\Users\\ADMIN\\AppData\\Local\\Temp\\ipykernel_8692\\2655592320.py (8)\n\u001b[0m\n\u001b[0m\u001b[1mDuring: resolving callee type: type(CPUDispatcher(<function playerRandom1 at 0x000001E27F627E20>))\u001b[0m\n\u001b[0m\u001b[1mDuring: typing of call at C:\\Users\\ADMIN\\AppData\\Local\\Temp\\ipykernel_8692\\2655592320.py (19)\n\u001b[0m\n\u001b[0m\u001b[1mDuring: resolving callee type: type(CPUDispatcher(<function playerRandom1 at 0x000001E27F627E20>))\u001b[0m\n\u001b[0m\u001b[1mDuring: typing of call at C:\\Users\\ADMIN\\AppData\\Local\\Temp\\ipykernel_8692\\2655592320.py (8)\n\u001b[0m\n\u001b[0m\u001b[1mDuring: resolving callee type: type(CPUDispatcher(<function playerRandom1 at 0x000001E27F627E20>))\u001b[0m\n\u001b[0m\u001b[1mDuring: typing of call at C:\\Users\\ADMIN\\AppData\\Local\\Temp\\ipykernel_8692\\2655592320.py (19)\n\u001b[0m\n\u001b[0m\u001b[1mDuring: resolving callee type: type(CPUDispatcher(<function playerRandom1 at 0x000001E27F627E20>))\u001b[0m\n\u001b[0m\u001b[1mDuring: typing of call at C:\\Users\\ADMIN\\AppData\\Local\\Temp\\ipykernel_8692\\2655592320.py (8)\n\u001b[0m\n\u001b[1m\nFile \"C:\\Users\\ADMIN\\AppData\\Local\\Temp\\ipykernel_8692\\2655592320.py\", line 8:\u001b[0m\n\u001b[1mdef one_game(list_player, temp_file, per_file):\n    <source elided>\n        p_state = get_player_state(env, lv1, lv2, lv3)\n\u001b[1m        act, temp_file[p_idx], per_file = list_player[p_idx](p_state, temp_file[p_idx], per_file)\n\u001b[0m        \u001b[1m^\u001b[0m\u001b[0m\n\n\u001b[0m\u001b[1mDuring: resolving callee type: type(CPUDispatcher(<function one_game at 0x000001E2040B40D0>))\u001b[0m\n\u001b[0m\u001b[1mDuring: typing of call at C:\\Users\\ADMIN\\AppData\\Local\\Temp\\ipykernel_8692\\2655592320.py (38)\n\u001b[0m\n\u001b[0m\u001b[1mDuring: resolving callee type: type(CPUDispatcher(<function one_game at 0x000001E2040B40D0>))\u001b[0m\n\u001b[0m\u001b[1mDuring: typing of call at C:\\Users\\ADMIN\\AppData\\Local\\Temp\\ipykernel_8692\\2655592320.py (38)\n\u001b[0m\n\u001b[1m\nFile \"C:\\Users\\ADMIN\\AppData\\Local\\Temp\\ipykernel_8692\\2655592320.py\", line 38:\u001b[0m\n\u001b[1mdef normal_main(list_player, num_game, temp_file, per_file):\n    <source elided>\n        # print(temp_file_new, p_lst_idx)\n\u001b[1m        winner,per_file = one_game(\n\u001b[0m        \u001b[1m^\u001b[0m\u001b[0m\n",
     "output_type": "error",
     "traceback": [
      "\u001b[1;31m---------------------------------------------------------------------------\u001b[0m",
      "\u001b[1;31mTypingError\u001b[0m                               Traceback (most recent call last)",
      "\u001b[1;32ma:\\GAME\\test.ipynb Cell 4\u001b[0m in \u001b[0;36m<cell line: 35>\u001b[1;34m()\u001b[0m\n\u001b[0;32m     <a href='vscode-notebook-cell:/a%3A/GAME/test.ipynb#X14sZmlsZQ%3D%3D?line=32'>33</a>\u001b[0m list_player\u001b[39m=\u001b[39m [playerRandom1]\u001b[39m*\u001b[39m\u001b[39m4\u001b[39m\n\u001b[0;32m     <a href='vscode-notebook-cell:/a%3A/GAME/test.ipynb#X14sZmlsZQ%3D%3D?line=33'>34</a>\u001b[0m temp_file \u001b[39m=\u001b[39m file_temp\u001b[39m*\u001b[39m\u001b[39m4\u001b[39m\n\u001b[1;32m---> <a href='vscode-notebook-cell:/a%3A/GAME/test.ipynb#X14sZmlsZQ%3D%3D?line=34'>35</a>\u001b[0m kq, file_ \u001b[39m=\u001b[39m normal_main(list_player, \u001b[39m1\u001b[39;49m, temp_file, np\u001b[39m.\u001b[39;49marray([\u001b[39m0\u001b[39;49m]))\n\u001b[0;32m     <a href='vscode-notebook-cell:/a%3A/GAME/test.ipynb#X14sZmlsZQ%3D%3D?line=35'>36</a>\u001b[0m \u001b[39mprint\u001b[39m(kq)\n",
      "File \u001b[1;32mc:\\Users\\ADMIN\\AppData\\Local\\Programs\\Python\\Python310\\lib\\site-packages\\numba\\core\\dispatcher.py:468\u001b[0m, in \u001b[0;36m_DispatcherBase._compile_for_args\u001b[1;34m(self, *args, **kws)\u001b[0m\n\u001b[0;32m    464\u001b[0m         msg \u001b[39m=\u001b[39m (\u001b[39mf\u001b[39m\u001b[39m\"\u001b[39m\u001b[39m{\u001b[39;00m\u001b[39mstr\u001b[39m(e)\u001b[39m.\u001b[39mrstrip()\u001b[39m}\u001b[39;00m\u001b[39m \u001b[39m\u001b[39m\\n\u001b[39;00m\u001b[39m\\n\u001b[39;00m\u001b[39mThis error may have been caused \u001b[39m\u001b[39m\"\u001b[39m\n\u001b[0;32m    465\u001b[0m                \u001b[39mf\u001b[39m\u001b[39m\"\u001b[39m\u001b[39mby the following argument(s):\u001b[39m\u001b[39m\\n\u001b[39;00m\u001b[39m{\u001b[39;00margs_str\u001b[39m}\u001b[39;00m\u001b[39m\\n\u001b[39;00m\u001b[39m\"\u001b[39m)\n\u001b[0;32m    466\u001b[0m         e\u001b[39m.\u001b[39mpatch_message(msg)\n\u001b[1;32m--> 468\u001b[0m     error_rewrite(e, \u001b[39m'\u001b[39;49m\u001b[39mtyping\u001b[39;49m\u001b[39m'\u001b[39;49m)\n\u001b[0;32m    469\u001b[0m \u001b[39mexcept\u001b[39;00m errors\u001b[39m.\u001b[39mUnsupportedError \u001b[39mas\u001b[39;00m e:\n\u001b[0;32m    470\u001b[0m     \u001b[39m# Something unsupported is present in the user code, add help info\u001b[39;00m\n\u001b[0;32m    471\u001b[0m     error_rewrite(e, \u001b[39m'\u001b[39m\u001b[39munsupported_error\u001b[39m\u001b[39m'\u001b[39m)\n",
      "File \u001b[1;32mc:\\Users\\ADMIN\\AppData\\Local\\Programs\\Python\\Python310\\lib\\site-packages\\numba\\core\\dispatcher.py:409\u001b[0m, in \u001b[0;36m_DispatcherBase._compile_for_args.<locals>.error_rewrite\u001b[1;34m(e, issue_type)\u001b[0m\n\u001b[0;32m    407\u001b[0m     \u001b[39mraise\u001b[39;00m e\n\u001b[0;32m    408\u001b[0m \u001b[39melse\u001b[39;00m:\n\u001b[1;32m--> 409\u001b[0m     \u001b[39mraise\u001b[39;00m e\u001b[39m.\u001b[39mwith_traceback(\u001b[39mNone\u001b[39;00m)\n",
      "\u001b[1;31mTypingError\u001b[0m: Failed in nopython mode pipeline (step: nopython frontend)\n\u001b[1m\u001b[1m\u001b[1m\u001b[1mFailed in nopython mode pipeline (step: nopython frontend)\n\u001b[1m\u001b[1m\u001b[1m\u001b[1m\u001b[1m\u001b[1m\u001b[1m\u001b[1m\u001b[1m\u001b[1mFailed in nopython mode pipeline (step: nopython frontend)\n\u001b[1m\u001b[1m\u001b[1m\u001b[1m\u001b[1m\u001b[1m\u001b[1m\u001b[1m\u001b[1m\u001b[1m\u001b[1m\u001b[1m\u001b[1m\u001b[1m\u001b[1m\u001b[1mFailed in nopython mode pipeline (step: nopython frontend)\n\u001b[1m\u001b[1m\u001b[1mNo implementation of function Function(<function dot at 0x000001E25C77CC10>) found for signature:\n \n >>> dot(float64, array(float64, 1d, C))\n \nThere are 4 candidate implementations:\n\u001b[1m      - Of which 4 did not match due to:\n      Overload in function '_OverloadWrapper._build.<locals>.ol_generated': File: numba\\core\\overload_glue.py: Line 131.\n        With argument(s): '(float64, array(float64, 1d, C))':\u001b[0m\n\u001b[1m       Rejected as the implementation raised a specific error:\n         TypingError: Failed in nopython mode pipeline (step: nopython frontend)\n       \u001b[1m\u001b[1m\u001b[1mNo implementation of function Function(<intrinsic stub>) found for signature:\n        \n        >>> stub(float64, array(float64, 1d, C))\n        \n       There are 2 candidate implementations:\n       \u001b[1m  - Of which 2 did not match due to:\n         Intrinsic of function 'stub': File: numba\\core\\overload_glue.py: Line 35.\n           With argument(s): '(float64, array(float64, 1d, C))':\u001b[0m\n       \u001b[1m   No match.\u001b[0m\n       \u001b[0m\n       \u001b[0m\u001b[1mDuring: resolving callee type: Function(<intrinsic stub>)\u001b[0m\n       \u001b[0m\u001b[1mDuring: typing of call at <string> (3)\n       \u001b[0m\n       \u001b[1m\n       File \"<string>\", line 3:\u001b[0m\n       \u001b[1m<source missing, REPL/exec in use?>\u001b[0m\n\u001b[0m\n  raised from c:\\Users\\ADMIN\\AppData\\Local\\Programs\\Python\\Python310\\lib\\site-packages\\numba\\core\\typeinfer.py:1086\n\u001b[0m\n\u001b[0m\u001b[1mDuring: resolving callee type: Function(<function dot at 0x000001E25C77CC10>)\u001b[0m\n\u001b[0m\u001b[1mDuring: typing of call at C:\\Users\\ADMIN\\AppData\\Local\\Temp\\ipykernel_8692\\2562785662.py (22)\n\u001b[0m\n\u001b[1m\nFile \"C:\\Users\\ADMIN\\AppData\\Local\\Temp\\ipykernel_8692\\2562785662.py\", line 22:\u001b[0m\n\u001b[1mdef neural_network(play_state:np.float64, file_temp) -> np.float64:\n    <source elided>\n        matrixRL1 = 1 / (1 + np.exp(-matrix1))\n\u001b[1m        matrix2 = np.dot(matrixRL1, file_temp[1])\n\u001b[0m        \u001b[1m^\u001b[0m\u001b[0m\n\n\u001b[0m\u001b[1mDuring: resolving callee type: type(CPUDispatcher(<function neural_network at 0x000001E20415A950>))\u001b[0m\n\u001b[0m\u001b[1mDuring: typing of call at C:\\Users\\ADMIN\\AppData\\Local\\Temp\\ipykernel_8692\\343904026.py (13)\n\u001b[0m\n\u001b[0m\u001b[1mDuring: resolving callee type: type(CPUDispatcher(<function neural_network at 0x000001E20415A950>))\u001b[0m\n\u001b[0m\u001b[1mDuring: typing of call at C:\\Users\\ADMIN\\AppData\\Local\\Temp\\ipykernel_8692\\343904026.py (13)\n\u001b[0m\n\u001b[0m\u001b[1mDuring: resolving callee type: type(CPUDispatcher(<function neural_network at 0x000001E20415A950>))\u001b[0m\n\u001b[0m\u001b[1mDuring: typing of call at C:\\Users\\ADMIN\\AppData\\Local\\Temp\\ipykernel_8692\\343904026.py (13)\n\u001b[0m\n\u001b[0m\u001b[1mDuring: resolving callee type: type(CPUDispatcher(<function neural_network at 0x000001E20415A950>))\u001b[0m\n\u001b[0m\u001b[1mDuring: typing of call at C:\\Users\\ADMIN\\AppData\\Local\\Temp\\ipykernel_8692\\343904026.py (13)\n\u001b[0m\n\u001b[0m\u001b[1mDuring: resolving callee type: type(CPUDispatcher(<function neural_network at 0x000001E20415A950>))\u001b[0m\n\u001b[0m\u001b[1mDuring: typing of call at C:\\Users\\ADMIN\\AppData\\Local\\Temp\\ipykernel_8692\\343904026.py (13)\n\u001b[0m\n\u001b[0m\u001b[1mDuring: resolving callee type: type(CPUDispatcher(<function neural_network at 0x000001E20415A950>))\u001b[0m\n\u001b[0m\u001b[1mDuring: typing of call at C:\\Users\\ADMIN\\AppData\\Local\\Temp\\ipykernel_8692\\343904026.py (13)\n\u001b[0m\n\u001b[0m\u001b[1mDuring: resolving callee type: type(CPUDispatcher(<function neural_network at 0x000001E20415A950>))\u001b[0m\n\u001b[0m\u001b[1mDuring: typing of call at C:\\Users\\ADMIN\\AppData\\Local\\Temp\\ipykernel_8692\\343904026.py (13)\n\u001b[0m\n\u001b[0m\u001b[1mDuring: resolving callee type: type(CPUDispatcher(<function neural_network at 0x000001E20415A950>))\u001b[0m\n\u001b[0m\u001b[1mDuring: typing of call at C:\\Users\\ADMIN\\AppData\\Local\\Temp\\ipykernel_8692\\343904026.py (13)\n\u001b[0m\n\u001b[1m\nFile \"C:\\Users\\ADMIN\\AppData\\Local\\Temp\\ipykernel_8692\\343904026.py\", line 13:\u001b[0m\n\u001b[1mdef playerRandom1(play_state:np.float64,file_temp:list,file_per:list):\n    <source elided>\n    # raise 1\n\u001b[1m    matran2 = neural_network(play_state, file_temp)\n\u001b[0m    \u001b[1m^\u001b[0m\u001b[0m\n\n\u001b[0m\u001b[1mDuring: resolving callee type: type(CPUDispatcher(<function playerRandom1 at 0x000001E27F627E20>))\u001b[0m\n\u001b[0m\u001b[1mDuring: typing of call at C:\\Users\\ADMIN\\AppData\\Local\\Temp\\ipykernel_8692\\2655592320.py (8)\n\u001b[0m\n\u001b[0m\u001b[1mDuring: resolving callee type: type(CPUDispatcher(<function playerRandom1 at 0x000001E27F627E20>))\u001b[0m\n\u001b[0m\u001b[1mDuring: typing of call at C:\\Users\\ADMIN\\AppData\\Local\\Temp\\ipykernel_8692\\2655592320.py (19)\n\u001b[0m\n\u001b[0m\u001b[1mDuring: resolving callee type: type(CPUDispatcher(<function playerRandom1 at 0x000001E27F627E20>))\u001b[0m\n\u001b[0m\u001b[1mDuring: typing of call at C:\\Users\\ADMIN\\AppData\\Local\\Temp\\ipykernel_8692\\2655592320.py (8)\n\u001b[0m\n\u001b[0m\u001b[1mDuring: resolving callee type: type(CPUDispatcher(<function playerRandom1 at 0x000001E27F627E20>))\u001b[0m\n\u001b[0m\u001b[1mDuring: typing of call at C:\\Users\\ADMIN\\AppData\\Local\\Temp\\ipykernel_8692\\2655592320.py (19)\n\u001b[0m\n\u001b[0m\u001b[1mDuring: resolving callee type: type(CPUDispatcher(<function playerRandom1 at 0x000001E27F627E20>))\u001b[0m\n\u001b[0m\u001b[1mDuring: typing of call at C:\\Users\\ADMIN\\AppData\\Local\\Temp\\ipykernel_8692\\2655592320.py (8)\n\u001b[0m\n\u001b[1m\nFile \"C:\\Users\\ADMIN\\AppData\\Local\\Temp\\ipykernel_8692\\2655592320.py\", line 8:\u001b[0m\n\u001b[1mdef one_game(list_player, temp_file, per_file):\n    <source elided>\n        p_state = get_player_state(env, lv1, lv2, lv3)\n\u001b[1m        act, temp_file[p_idx], per_file = list_player[p_idx](p_state, temp_file[p_idx], per_file)\n\u001b[0m        \u001b[1m^\u001b[0m\u001b[0m\n\n\u001b[0m\u001b[1mDuring: resolving callee type: type(CPUDispatcher(<function one_game at 0x000001E2040B40D0>))\u001b[0m\n\u001b[0m\u001b[1mDuring: typing of call at C:\\Users\\ADMIN\\AppData\\Local\\Temp\\ipykernel_8692\\2655592320.py (38)\n\u001b[0m\n\u001b[0m\u001b[1mDuring: resolving callee type: type(CPUDispatcher(<function one_game at 0x000001E2040B40D0>))\u001b[0m\n\u001b[0m\u001b[1mDuring: typing of call at C:\\Users\\ADMIN\\AppData\\Local\\Temp\\ipykernel_8692\\2655592320.py (38)\n\u001b[0m\n\u001b[1m\nFile \"C:\\Users\\ADMIN\\AppData\\Local\\Temp\\ipykernel_8692\\2655592320.py\", line 38:\u001b[0m\n\u001b[1mdef normal_main(list_player, num_game, temp_file, per_file):\n    <source elided>\n        # print(temp_file_new, p_lst_idx)\n\u001b[1m        winner,per_file = one_game(\n\u001b[0m        \u001b[1m^\u001b[0m\u001b[0m\n"
     ]
    }
   ],
   "source": [
    "@njit()\n",
    "def random_player(p_state, temp_file, per_file):\n",
    "    arr_action = get_list_action(p_state)\n",
    "    act_idx = np.random.randint(0, len(arr_action))\n",
    "    return arr_action[act_idx], temp_file, per_file\n",
    "    \n",
    "@njit()\n",
    "def playerRandom1(play_state:np.float64,file_temp:list,file_per:list):\n",
    "    a = get_list_action(play_state)\n",
    "    # file_temp = [(np.random.random((len(play_state),100)))*2 -0.6 ,np.random.random((100, 50)),np.random.random((50,amount_action()))]\n",
    "    # print(file_temp, file_per)\n",
    "    # raise 1\n",
    "    matran2 = neural_network(play_state, file_temp)\n",
    "    # max = 0\n",
    "    # action_max = a[random.randrange(len(a))]\n",
    "    # for act in a:\n",
    "    #     if matran2[act] > max:\n",
    "    #         max = matran2[act]\n",
    "    #         action_max = act\n",
    "\n",
    "    # check_vic = check_victory(play_state)\n",
    "    # if check_vic == 1:\n",
    "    #     if type(file_per[0]) == int:\n",
    "    #         file_per = [file_temp]\n",
    "    #     else:\n",
    "    #         file_per.append(file_temp)\n",
    "    return int(a[0]),file_temp,file_per\n",
    "    \n",
    "# temp1 = (np.random.random((len(play_state),100)))*2 -0.6\n",
    "# temp2 = np.random.random((100, 50))\n",
    "# temp3 = np.random.random((50,amount_action()))\n",
    "file_temp = [(np.random.random((len(play_state),100)))*2 -0.6 ,np.random.random((100, 50)),np.random.random((50,amount_action()))]\n",
    "list_player= [playerRandom1]*4\n",
    "temp_file = file_temp*4\n",
    "kq, file_ = normal_main(list_player, 1, temp_file, np.array([0]))\n",
    "print(kq)"
   ]
  }
 ],
 "metadata": {
  "kernelspec": {
   "display_name": "Python 3.10.0 64-bit",
   "language": "python",
   "name": "python3"
  },
  "language_info": {
   "codemirror_mode": {
    "name": "ipython",
    "version": 3
   },
   "file_extension": ".py",
   "mimetype": "text/x-python",
   "name": "python",
   "nbconvert_exporter": "python",
   "pygments_lexer": "ipython3",
   "version": "3.10.7"
  },
  "orig_nbformat": 4,
  "vscode": {
   "interpreter": {
    "hash": "31671a60cee805c34c73116577b485118ff3a75c458d3004d49632c19702ac60"
   }
  }
 },
 "nbformat": 4,
 "nbformat_minor": 2
}
