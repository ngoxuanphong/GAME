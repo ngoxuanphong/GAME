{
 "cells": [
  {
   "cell_type": "code",
   "execution_count": 6,
   "metadata": {},
   "outputs": [],
   "source": [
    "import os\n",
    "import numpy as np"
   ]
  },
  {
   "cell_type": "code",
   "execution_count": 27,
   "metadata": {},
   "outputs": [
    {
     "data": {
      "text/plain": [
       "0"
      ]
     },
     "execution_count": 27,
     "metadata": {},
     "output_type": "execute_result"
    }
   ],
   "source": [
    "import pandas as pd\n",
    "a = pd.read_excel('C:\\AutomaticTrain\\State.xlsx')\n",
    "game_name = 'TLMN'\n",
    "all_level = [int(level) for level in a[game_name][0].strip('][').split(',')]\n",
    "for level, percent in enumerate(all_level):\n",
    "    if percent == 0:\n",
    "        break\n"
   ]
  },
  {
   "cell_type": "code",
   "execution_count": 8,
   "metadata": {},
   "outputs": [
    {
     "name": "stdout",
     "output_type": "stream",
     "text": [
      "Lúc train\n",
      "Lúc train\n",
      "Lúc train\n",
      "Lúc test\n",
      "660\n"
     ]
    }
   ],
   "source": [
    "def CreateFolder(game_name, time_run_game):\n",
    "    player = 'Agent'  #Tên folder của người chơi\n",
    "    path_data = f'Agent/{player}/Data'\n",
    "    if not os.path.exists(path_data):\n",
    "        os.mkdir(path_data)\n",
    "    path_save_player = f'Agent/{player}/Data/{game_name}_{time_run_game}/'\n",
    "    if not os.path.exists(path_save_player):\n",
    "        os.mkdir(path_save_player)\n",
    "    return path_save_player\n",
    "\n",
    "from setup import game_name, time_run_game\n",
    "path_save_player = CreateFolder(game_name, time_run_game)\n",
    "\n",
    "per = file_per()\n",
    "for time in range(3):\n",
    "    win, per = numba_main_2(Agent, 10000, per, 0)\n",
    "    print('Lúc train')\n",
    "    np.save(f'{path_save_player}Train.npy',per)\n",
    "np.save(f'{path_save_player}Train.npy',per)\n",
    "perx_Khanh_save = list(np.load(f'{path_save_player}Train.npy',allow_pickle=True))\n",
    "print('Lúc test')\n",
    "win, per = numba_main_2(Agent, 1000, per, 0)\n",
    "print(win)"
   ]
  },
  {
   "cell_type": "code",
   "execution_count": null,
   "metadata": {},
   "outputs": [],
   "source": [
    "from base.TLMN_v2.env import *\n",
    "from Agent.Agent.Agent_player import Agent, file_per\n",
    "\n",
    "file_per()"
   ]
  },
  {
   "cell_type": "code",
   "execution_count": 2,
   "metadata": {},
   "outputs": [
    {
     "ename": "NameError",
     "evalue": "name 'getActionSize' is not defined",
     "output_type": "error",
     "traceback": [
      "\u001b[1;31m---------------------------------------------------------------------------\u001b[0m",
      "\u001b[1;31mNameError\u001b[0m                                 Traceback (most recent call last)",
      "\u001b[1;32ma:\\GAME\\test.ipynb Cell 5\u001b[0m in \u001b[0;36m<cell line: 1>\u001b[1;34m()\u001b[0m\n\u001b[1;32m----> <a href='vscode-notebook-cell:/a%3A/GAME/test.ipynb#W6sZmlsZQ%3D%3D?line=0'>1</a>\u001b[0m getActionSize()\n",
      "\u001b[1;31mNameError\u001b[0m: name 'getActionSize' is not defined"
     ]
    }
   ],
   "source": [
    "getActionSize()"
   ]
  }
 ],
 "metadata": {
  "kernelspec": {
   "display_name": "Python 3.10.0 64-bit",
   "language": "python",
   "name": "python3"
  },
  "language_info": {
   "codemirror_mode": {
    "name": "ipython",
    "version": 3
   },
   "file_extension": ".py",
   "mimetype": "text/x-python",
   "name": "python",
   "nbconvert_exporter": "python",
   "pygments_lexer": "ipython3",
   "version": "3.10.7"
  },
  "orig_nbformat": 4,
  "vscode": {
   "interpreter": {
    "hash": "31671a60cee805c34c73116577b485118ff3a75c458d3004d49632c19702ac60"
   }
  }
 },
 "nbformat": 4,
 "nbformat_minor": 2
}
