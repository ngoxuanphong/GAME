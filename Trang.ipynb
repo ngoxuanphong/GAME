{
 "cells": [
  {
   "cell_type": "code",
   "execution_count": 10,
   "metadata": {},
   "outputs": [],
   "source": [
    "from CheckEnvAgent import CreateFolder, load_module_player, add_game_to_syspath, setup_game, save_json\n",
    "import itertools\n",
    "import warnings \n",
    "from setup import SHOT_PATH\n",
    "import numpy as np\n",
    "warnings.filterwarnings('ignore')\n",
    "from numba.core.errors import NumbaDeprecationWarning, NumbaPendingDeprecationWarning,NumbaExperimentalFeatureWarning, NumbaWarning\n",
    "warnings.simplefilter('ignore', category=NumbaDeprecationWarning)\n",
    "warnings.simplefilter('ignore', category=NumbaPendingDeprecationWarning)\n",
    "warnings.simplefilter('ignore', category=NumbaExperimentalFeatureWarning)\n",
    "warnings.simplefilter('ignore', category=NumbaWarning)\n"
   ]
  },
  {
   "cell_type": "code",
   "execution_count": 17,
   "metadata": {},
   "outputs": [
    {
     "name": "stdout",
     "output_type": "stream",
     "text": [
      "0 21\n",
      "1 26\n",
      "2 8\n",
      "3 29\n",
      "4 11\n",
      "test 95\n",
      "0 14\n",
      "1 15\n",
      "2 15\n",
      "3 13\n",
      "4 11\n",
      "An 68\n",
      "0 46\n",
      "1 68\n",
      "2 42\n",
      "3 44\n",
      "4 54\n",
      "FusionwideNNAlgorithm 254\n",
      "0 2\n",
      "1 4\n",
      "2 3\n",
      "3 0\n",
      "4 1\n",
      "Trang 10\n",
      "0 52\n",
      "1 50\n",
      "2 64\n",
      "3 37\n",
      "4 46\n",
      "Chain3Algorithm 249\n",
      "{'test': 95, 'An': 68, 'FusionwideNNAlgorithm': 254, 'Trang': 10, 'Chain3Algorithm': 249}\n"
     ]
    }
   ],
   "source": [
    "import itertools\n",
    "env_name = 'Splendor_v2'\n",
    "list_name_agent = ['test', 'An', 'FusionwideNNAlgorithm', 'Trang', 'Chain3Algorithm']\n",
    "add_game_to_syspath(env_name)\n",
    "__env__ = setup_game(env_name)\n",
    "dict_level = {}\n",
    "combinations = []\n",
    "dict_result = {}\n",
    "for agent in list_name_agent:\n",
    "    list_name_agent_copy = list_name_agent.copy()\n",
    "    list_name_agent_copy.remove(agent)\n",
    "    dict_level[env_name] = {}\n",
    "    p0 = load_module_player(agent).Test\n",
    "    combis = enumerate(itertools.combinations(list_name_agent_copy, __env__.getAgentSize()-1))\n",
    "\n",
    "    level_max = 1\n",
    "    for level0, combination in combis:\n",
    "        list_level = [0, 0, list(combination)]\n",
    "        dict_level[env_name][str(level0+1)] = list_level\n",
    "        level_max += 1\n",
    "    \n",
    "    save_json(f'{SHOT_PATH}Log/level_game{env_name}.json', dict_level)\n",
    "    per_player = list(np.load(f'{SHOT_PATH}Agent/{agent}/Data/{env_name}_0/Train.npy',allow_pickle=True))\n",
    "    win_total_player = 0\n",
    "    for level in range(level_max):\n",
    "        win, per = __env__.numba_main_2(p0, 100, per_player, level)\n",
    "        win_total_player += win\n",
    "        print(level, win)\n",
    "    print(agent, win_total_player)\n",
    "    dict_result[agent] = win_total_player\n",
    "print(dict_result)"
   ]
  }
 ],
 "metadata": {
  "kernelspec": {
   "display_name": "Python 3",
   "language": "python",
   "name": "python3"
  },
  "language_info": {
   "codemirror_mode": {
    "name": "ipython",
    "version": 3
   },
   "file_extension": ".py",
   "mimetype": "text/x-python",
   "name": "python",
   "nbconvert_exporter": "python",
   "pygments_lexer": "ipython3",
   "version": "3.10.0 (tags/v3.10.0:b494f59, Oct  4 2021, 19:00:18) [MSC v.1929 64 bit (AMD64)]"
  },
  "orig_nbformat": 4,
  "vscode": {
   "interpreter": {
    "hash": "31671a60cee805c34c73116577b485118ff3a75c458d3004d49632c19702ac60"
   }
  }
 },
 "nbformat": 4,
 "nbformat_minor": 2
}
